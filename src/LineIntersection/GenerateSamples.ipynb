{
 "cells": [
  {
   "cell_type": "code",
   "execution_count": 2,
   "metadata": {},
   "outputs": [],
   "source": [
    "import numpy as np\n",
    "import matplotlib.pyplot as plt\n",
    "import os\n",
    "import json"
   ]
  },
  {
   "cell_type": "code",
   "execution_count": 3,
   "metadata": {},
   "outputs": [],
   "source": [
    "def find_intersections(x, y1, y2):\n",
    "    intersections = []\n",
    "    for i in range(len(x) - 1):\n",
    "        if (y1[i] - y2[i]) * (y1[i + 1] - y2[i + 1]) < 0:\n",
    "            intersections.append(\n",
    "                (x[i] + x[i + 1]) / 2\n",
    "            )  \n",
    "    return len(intersections)"
   ]
  },
  {
   "cell_type": "code",
   "execution_count": 8,
   "metadata": {},
   "outputs": [],
   "source": [
    "def generate_and_save_images(\n",
    "    save_dir,\n",
    "    num_images=50,\n",
    "    num_points=3,\n",
    "    line_thickness_list=[2, 3, 4],\n",
    "):\n",
    "    import random\n",
    "\n",
    "    random.seed(42)\n",
    "    # Ensure the directory exists\n",
    "    os.makedirs(save_dir, exist_ok=True)\n",
    "\n",
    "    # Configuration dictionary\n",
    "    config = {}\n",
    "\n",
    "    # Generate and save the images\n",
    "    for i in range(num_images):\n",
    "\n",
    "        x = np.linspace(0, 10, num_points)\n",
    "        y1 = np.random.rand(num_points) * 10\n",
    "        y2 = np.random.rand(num_points) * 10\n",
    "\n",
    "        # Create lists of (x, y) pairs\n",
    "        line1_coords = list(zip(x, y1))\n",
    "        line2_coords = list(zip(x, y2))\n",
    "\n",
    "        for line_thickness in line_thickness_list:\n",
    "            plt.figure(figsize=(10, 5))\n",
    "            plt.plot(\n",
    "                x, y1, \"r-\", linewidth=line_thickness\n",
    "            )  # Red line with specified thickness\n",
    "            plt.plot(\n",
    "                x, y2, \"b-\", linewidth=line_thickness\n",
    "            )  # Blue line with specified thickness\n",
    "            # Count intersections\n",
    "            num_intersections = find_intersections(x, y1, y2)\n",
    "\n",
    "            # Remove grid and axis\n",
    "            plt.axis(\"off\")\n",
    "\n",
    "            # Save the plot\n",
    "            image_name = f\"image_{i}_thickness_{line_thickness}.png\"\n",
    "            file_path = os.path.join(save_dir, image_name)\n",
    "            plt.savefig(file_path)\n",
    "\n",
    "            # save pdf\n",
    "            image_name_pdf = f\"image_{i}_thickness_{line_thickness}.pdf\"\n",
    "            file_path_pdf = os.path.join(save_dir, image_name_pdf)\n",
    "            plt.savefig(file_path_pdf, format=\"pdf\")\n",
    "\n",
    "            plt.close()  # Close the figure to free memory\n",
    "\n",
    "            # Store configuration\n",
    "            config[image_name] = {\n",
    "                \"num_points\": num_points,\n",
    "                \"num_intersections\": num_intersections,\n",
    "                \"line_colors\": [\"red\", \"blue\"],\n",
    "                \"line_thickness\": line_thickness,\n",
    "                \"coordinates\": {\"line1\": line1_coords, \"line2\": line2_coords},\n",
    "            }\n",
    "\n",
    "    # Save configuration to JSON\n",
    "    with open(os.path.join(save_dir, \"configurations.json\"), \"w\") as f:\n",
    "        json.dump(config, f, indent=4)"
   ]
  },
  {
   "cell_type": "code",
   "execution_count": 9,
   "metadata": {},
   "outputs": [],
   "source": [
    "generate_and_save_images(save_dir=\"./images/\")"
   ]
  }
 ],
 "metadata": {
  "kernelspec": {
   "display_name": "defaulttorch2",
   "language": "python",
   "name": "python3"
  },
  "language_info": {
   "codemirror_mode": {
    "name": "ipython",
    "version": 3
   },
   "file_extension": ".py",
   "mimetype": "text/x-python",
   "name": "python",
   "nbconvert_exporter": "python",
   "pygments_lexer": "ipython3",
   "version": "3.10.9"
  }
 },
 "nbformat": 4,
 "nbformat_minor": 2
}
