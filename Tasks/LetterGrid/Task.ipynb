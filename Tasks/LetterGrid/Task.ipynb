{
 "cells": [
  {
   "cell_type": "code",
   "execution_count": 11,
   "metadata": {},
   "outputs": [
    {
     "name": "stderr",
     "output_type": "stream",
     "text": [
      "/var/folders/y1/b5wjnkp96_b7cvzncx0zsry40000gn/T/ipykernel_86517/1165587275.py:22: UserWarning: Setting the 'color' property will override the edgecolor or facecolor properties.\n",
      "  rect = plt.Rectangle(\n"
     ]
    }
   ],
   "source": [
    "import numpy as np\n",
    "import matplotlib.pyplot as plt\n",
    "import random\n",
    "import string\n",
    "\n",
    "\n",
    "def generate_letter_grid(n):\n",
    "    # Generate an NxN array of random letters\n",
    "    letters = np.random.choice(list(string.ascii_uppercase), size=(n, n))\n",
    "    return letters\n",
    "\n",
    "\n",
    "def display_grid_with_letters(grid, filename):\n",
    "    # Create a figure and a subplot\n",
    "    fig, ax = plt.subplots(figsize=(10, 10))\n",
    "    ax.set_axis_off()  # Hide the axes\n",
    "\n",
    "    n = len(grid)\n",
    "    for i in range(n):\n",
    "        for j in range(n):\n",
    "            letter = grid[i, j]\n",
    "            rect = plt.Rectangle(\n",
    "                (j, n - i - 1), 1, 1, fill=True, color=\"white\", edgecolor=\"none\"\n",
    "            )\n",
    "            ax.add_patch(rect)\n",
    "            ax.text(j + 0.5, n - i - 0.5, letter, va=\"center\", ha=\"center\", fontsize=16)\n",
    "\n",
    "    ax.set_xlim(0, n)\n",
    "    ax.set_ylim(0, n)\n",
    "    ax.set_aspect(\"equal\")  # Ensure the aspect ratio is equal to make the grid square\n",
    "\n",
    "    plt.savefig(filename, bbox_inches=\"tight\", pad_inches=0)\n",
    "    plt.close()\n",
    "\n",
    "\n",
    "# Example usage for different sizes\n",
    "sizes = [5, 7, 13]\n",
    "for size in sizes:\n",
    "    grid = generate_letter_grid(size)\n",
    "    display_grid_with_letters(grid, f\"grid_{size}x{size}.png\")"
   ]
  },
  {
   "cell_type": "code",
   "execution_count": null,
   "metadata": {},
   "outputs": [],
   "source": []
  }
 ],
 "metadata": {
  "kernelspec": {
   "display_name": "defaulttorch2",
   "language": "python",
   "name": "python3"
  },
  "language_info": {
   "codemirror_mode": {
    "name": "ipython",
    "version": 3
   },
   "file_extension": ".py",
   "mimetype": "text/x-python",
   "name": "python",
   "nbconvert_exporter": "python",
   "pygments_lexer": "ipython3",
   "version": "3.10.9"
  }
 },
 "nbformat": 4,
 "nbformat_minor": 2
}
