{
 "cells": [
  {
   "cell_type": "code",
   "execution_count": 21,
   "metadata": {},
   "outputs": [],
   "source": [
    "import json\n",
    "import pandas as pd\n",
    "import matplotlib.pyplot as plt\n",
    "import seaborn as sns\n",
    "import numpy as np\n",
    "import glob\n",
    "import os"
   ]
  },
  {
   "cell_type": "code",
   "execution_count": 22,
   "metadata": {},
   "outputs": [],
   "source": [
    "import glob\n",
    "import os\n",
    "\n",
    "# Define the path to the directory containing the files\n",
    "directory_path = \"./nested_squares/\"\n",
    "\n",
    "# Create a pattern to match files recursively\n",
    "pattern = os.path.join(directory_path, \"**/*claude*.md\")\n",
    "\n",
    "# Use glob to find all files that match the pattern, with recursive set to True\n",
    "md_files = glob.glob(pattern, recursive=True)\n",
    "\n",
    "# Read the content of each file\n",
    "file_contents = {}\n",
    "for file_path in md_files:\n",
    "    with open(file_path, \"r\") as file:\n",
    "        file_contents[os.path.basename(file_path)] = file.read()"
   ]
  },
  {
   "cell_type": "code",
   "execution_count": 23,
   "metadata": {},
   "outputs": [
    {
     "data": {
      "text/plain": [
       "120"
      ]
     },
     "execution_count": 23,
     "metadata": {},
     "output_type": "execute_result"
    }
   ],
   "source": [
    "gt_data = pd.read_json(f\"./nested_squares/config.json\")\n",
    "len(gt_data)"
   ]
  },
  {
   "cell_type": "code",
   "execution_count": 24,
   "metadata": {},
   "outputs": [],
   "source": [
    "# text_image_0a5a0d82-477d-47e2-a504-861c5952fe98-gemini-output.md\n",
    "gt_data[\"claude-output-file\"] = gt_data[\"image_name\"].apply(\n",
    "    lambda x: \"./nested_squares/\"\n",
    "    + x.replace(\".png\", \"\")\n",
    "    + \"-claude-3-sonnet-20240229-output.md\"\n",
    ")\n",
    "\n",
    "# Read the content of each file for the gemini output and make a new column, ignoring missing files\n",
    "gt_data[\"claude-output-raw\"] = gt_data[\"claude-output-file\"].apply(\n",
    "    lambda x: (open(x, \"r\").read() if os.path.exists(os.path.join(x)) else None)\n",
    ")"
   ]
  },
  {
   "cell_type": "code",
   "execution_count": 25,
   "metadata": {},
   "outputs": [],
   "source": [
    "# drop rows with missing gemini output\n",
    "gt_data = gt_data.dropna(subset=[\"claude-output-raw\"])"
   ]
  },
  {
   "cell_type": "code",
   "execution_count": 26,
   "metadata": {},
   "outputs": [
    {
     "data": {
      "text/plain": [
       "120"
      ]
     },
     "execution_count": 26,
     "metadata": {},
     "output_type": "execute_result"
    }
   ],
   "source": [
    "len(gt_data)"
   ]
  },
  {
   "cell_type": "code",
   "execution_count": 27,
   "metadata": {},
   "outputs": [],
   "source": [
    "import re\n",
    "\n",
    "\n",
    "def extract_marked_text(text):\n",
    "    # Map textual numbers to integer values\n",
    "    number_mapping = {\n",
    "        \"zero\": 0,\n",
    "        \"one\": 1,\n",
    "        \"two\": 2,\n",
    "        \"three\": 3,\n",
    "        \"four\": 4,\n",
    "        \"five\": 5,\n",
    "        \"six\": 6,\n",
    "        \"seven\": 7,\n",
    "        \"eight\": 8,\n",
    "        \"nine\": 9,\n",
    "        \"ten\": 10,\n",
    "    }\n",
    "\n",
    "    # Use regular expression to find all numbers in the text\n",
    "    numbers = re.findall(r\"\\b\\d+\\b\", text)\n",
    "    if numbers:\n",
    "        # Convert the first found number to integer\n",
    "        return int(numbers[0])\n",
    "\n",
    "    # If no digits found, try to find textual numbers\n",
    "    words = text.split()\n",
    "    for word in words:\n",
    "        if word.lower() in number_mapping:\n",
    "            return number_mapping[word.lower()]\n",
    "\n",
    "    # If no number is found, return a default value indicating no number was found\n",
    "    return \"number_not_found\"\n",
    "\n",
    "\n",
    "gt_data[\"predicted\"] = gt_data[\"claude-output-raw\"].apply(extract_marked_text)"
   ]
  },
  {
   "cell_type": "code",
   "execution_count": 28,
   "metadata": {},
   "outputs": [
    {
     "data": {
      "text/plain": [
       "0      The image consists of two squares, one inside ...\n",
       "1      The image contains 2 squares - an outer larger...\n",
       "2      In the image, there are 2 squares visible. The...\n",
       "3      The image contains 2 squares nested inside eac...\n",
       "4      The image contains 2 squares. There is a large...\n",
       "                             ...                        \n",
       "115    In the given image, there are 5 squares visibl...\n",
       "116    The image contains a series of concentric squa...\n",
       "117    The image consists of 5 concentric squares dra...\n",
       "118    The image depicts a series of concentric squar...\n",
       "119    The image contains a series of nested square s...\n",
       "Name: claude-output-raw, Length: 120, dtype: object"
      ]
     },
     "execution_count": 28,
     "metadata": {},
     "output_type": "execute_result"
    }
   ],
   "source": [
    "gt_data[\"claude-output-raw\"]"
   ]
  },
  {
   "cell_type": "code",
   "execution_count": 29,
   "metadata": {},
   "outputs": [
    {
     "data": {
      "text/plain": [
       "predicted\n",
       "4    58\n",
       "2    27\n",
       "5    27\n",
       "3     8\n",
       "Name: count, dtype: int64"
      ]
     },
     "execution_count": 29,
     "metadata": {},
     "output_type": "execute_result"
    }
   ],
   "source": [
    "gt_data[\"predicted\"].value_counts()"
   ]
  },
  {
   "cell_type": "code",
   "execution_count": 30,
   "metadata": {},
   "outputs": [],
   "source": [
    "cleaned_data = gt_data.copy()\n",
    "# drop squares column\n",
    "cleaned_data = cleaned_data.drop(columns=[\"squares\"])"
   ]
  },
  {
   "cell_type": "code",
   "execution_count": 31,
   "metadata": {},
   "outputs": [
    {
     "name": "stdout",
     "output_type": "stream",
     "text": [
      "Overall Accuracy: 69.17%\n"
     ]
    }
   ],
   "source": [
    "# Ensure both columns are of integer type before comparison\n",
    "cleaned_data[\"depth\"] = cleaned_data[\"depth\"].astype(int)\n",
    "cleaned_data[\"predicted\"] = cleaned_data[\"predicted\"].astype(int)\n",
    "\n",
    "cleaned_data[\"is_prediction_correct\"] = (\n",
    "    cleaned_data[\"depth\"] == cleaned_data[\"predicted\"]\n",
    ")\n",
    "# Calculate accuracy\n",
    "accuracy = cleaned_data[\"is_prediction_correct\"].mean()\n",
    "print(f\"Overall Accuracy: {accuracy * 100:.2f}%\")"
   ]
  },
  {
   "cell_type": "code",
   "execution_count": 32,
   "metadata": {},
   "outputs": [
    {
     "data": {
      "text/plain": [
       "120"
      ]
     },
     "execution_count": 32,
     "metadata": {},
     "output_type": "execute_result"
    }
   ],
   "source": [
    "len(cleaned_data)"
   ]
  },
  {
   "cell_type": "code",
   "execution_count": 33,
   "metadata": {},
   "outputs": [
    {
     "name": "stderr",
     "output_type": "stream",
     "text": [
      "/var/folders/y1/b5wjnkp96_b7cvzncx0zsry40000gn/T/ipykernel_13119/1445926420.py:7: DeprecationWarning: DataFrameGroupBy.apply operated on the grouping columns. This behavior is deprecated, and in a future version of pandas the grouping columns will be excluded from the operation. Either pass `include_groups=False` to exclude the groupings or explicitly select the grouping columns after groupby to silence this warning.\n",
      "  accuracy_by_thickness = cleaned_data.groupby(\"line_thickness\").apply(\n"
     ]
    },
    {
     "data": {
      "text/plain": [
       "line_thickness\n",
       "2    62.0\n",
       "3    65.0\n",
       "4    80.0\n",
       "dtype: float64"
      ]
     },
     "execution_count": 33,
     "metadata": {},
     "output_type": "execute_result"
    }
   ],
   "source": [
    "# Assuming 'cleaned_data' DataFrame has columns 'line_thickness', 'num_intersections', and 'extracted_number'\n",
    "\n",
    "# Convert line_thickness to an appropriate numeric type if necessary\n",
    "cleaned_data[\"line_thickness\"] = cleaned_data[\"line_thickness\"].astype(int)\n",
    "\n",
    "# Calculate accuracy for each thickness\n",
    "accuracy_by_thickness = cleaned_data.groupby(\"line_thickness\").apply(\n",
    "    lambda df: (df[\"is_prediction_correct\"]).mean()\n",
    ")\n",
    "\n",
    "accuracy_by_thickness = 100 * accuracy_by_thickness.round(2)\n",
    "accuracy_by_thickness"
   ]
  },
  {
   "cell_type": "code",
   "execution_count": 34,
   "metadata": {},
   "outputs": [
    {
     "name": "stderr",
     "output_type": "stream",
     "text": [
      "/var/folders/y1/b5wjnkp96_b7cvzncx0zsry40000gn/T/ipykernel_13119/3496425564.py:5: DeprecationWarning: DataFrameGroupBy.apply operated on the grouping columns. This behavior is deprecated, and in a future version of pandas the grouping columns will be excluded from the operation. Either pass `include_groups=False` to exclude the groupings or explicitly select the grouping columns after groupby to silence this warning.\n",
      "  accuracy_by_thickness = cleaned_data.groupby(\"depth\").apply(\n"
     ]
    },
    {
     "data": {
      "text/plain": [
       "depth\n",
       "2    90.0\n",
       "3    27.0\n",
       "4    87.0\n",
       "5    73.0\n",
       "dtype: float64"
      ]
     },
     "execution_count": 34,
     "metadata": {},
     "output_type": "execute_result"
    }
   ],
   "source": [
    "# Convert line_thickness to an appropriate numeric type if necessary\n",
    "cleaned_data[\"depth\"] = cleaned_data[\"depth\"].astype(int)\n",
    "\n",
    "# Calculate accuracy for each thickness\n",
    "accuracy_by_thickness = cleaned_data.groupby(\"depth\").apply(\n",
    "    lambda df: (df[\"is_prediction_correct\"]).mean()\n",
    ")\n",
    "\n",
    "accuracy_by_thickness = 100 * accuracy_by_thickness.round(2)\n",
    "accuracy_by_thickness"
   ]
  },
  {
   "cell_type": "code",
   "execution_count": null,
   "metadata": {},
   "outputs": [],
   "source": []
  }
 ],
 "metadata": {
  "kernelspec": {
   "display_name": "defaulttorch2",
   "language": "python",
   "name": "python3"
  },
  "language_info": {
   "codemirror_mode": {
    "name": "ipython",
    "version": 3
   },
   "file_extension": ".py",
   "mimetype": "text/x-python",
   "name": "python",
   "nbconvert_exporter": "python",
   "pygments_lexer": "ipython3",
   "version": "3.10.9"
  }
 },
 "nbformat": 4,
 "nbformat_minor": 2
}
