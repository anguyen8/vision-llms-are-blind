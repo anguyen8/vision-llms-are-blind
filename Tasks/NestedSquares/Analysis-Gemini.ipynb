{
 "cells": [
  {
   "cell_type": "code",
   "execution_count": 2,
   "metadata": {},
   "outputs": [],
   "source": [
    "import json\n",
    "import pandas as pd\n",
    "import matplotlib.pyplot as plt\n",
    "import seaborn as sns\n",
    "import numpy as np\n",
    "import glob\n",
    "import os"
   ]
  },
  {
   "cell_type": "code",
   "execution_count": 3,
   "metadata": {},
   "outputs": [
    {
     "data": {
      "text/plain": [
       "120"
      ]
     },
     "execution_count": 3,
     "metadata": {},
     "output_type": "execute_result"
    }
   ],
   "source": [
    "gt_data = pd.read_json(f\"./images/configurations.json\")\n",
    "len(gt_data)"
   ]
  },
  {
   "cell_type": "code",
   "execution_count": 4,
   "metadata": {},
   "outputs": [],
   "source": [
    "# text_image_0a5a0d82-477d-47e2-a504-861c5952fe98-gemini-output.md\n",
    "gt_data[\"gemini-output-file\"] = gt_data[\"image_name\"].apply(\n",
    "    lambda x: \"./images/\" + x.replace(\".png\", \"\") + \"-gemini-output.md\"\n",
    ")\n",
    "\n",
    "# Read the content of each file for the gemini output and make a new column, ignoring missing files\n",
    "gt_data[\"gemini-output-raw\"] = gt_data[\"gemini-output-file\"].apply(\n",
    "    lambda x: (open(x, \"r\").read() if os.path.exists(os.path.join(x)) else None)\n",
    ")"
   ]
  },
  {
   "cell_type": "code",
   "execution_count": 5,
   "metadata": {},
   "outputs": [],
   "source": [
    "# drop rows with missing gemini output\n",
    "gt_data = gt_data.dropna(subset=[\"gemini-output-raw\"])"
   ]
  },
  {
   "cell_type": "code",
   "execution_count": 6,
   "metadata": {},
   "outputs": [
    {
     "data": {
      "text/plain": [
       "120"
      ]
     },
     "execution_count": 6,
     "metadata": {},
     "output_type": "execute_result"
    }
   ],
   "source": [
    "len(gt_data)"
   ]
  },
  {
   "cell_type": "code",
   "execution_count": 7,
   "metadata": {},
   "outputs": [],
   "source": [
    "def extract_marked_text(text):\n",
    "    # First try to extract text between **\n",
    "    parts = text.split(\"**\")\n",
    "    if len(parts) > 1:\n",
    "        # Extract the first marked text which is likely the number or description of intersections\n",
    "        marked_text = parts[1].lower()\n",
    "        # Map textual numbers to integer values\n",
    "        number_mapping = {\n",
    "            \"zero\": 0,\n",
    "            \"one\": 1,\n",
    "            \"two\": 2,\n",
    "            \"three\": 3,\n",
    "            \"four\": 4,\n",
    "            \"five\": 5,\n",
    "            \"six\": 6,\n",
    "            \"seven\": 7,\n",
    "            \"eight\": 8,\n",
    "            \"nine\": 9,\n",
    "            \"ten\": 10,\n",
    "        }\n",
    "        # Check if the marked text is a digit and return the integer if true\n",
    "        if marked_text.isdigit():\n",
    "            return int(marked_text)\n",
    "        # Return the corresponding integer if the text is a known number, otherwise return the text\n",
    "        return number_mapping.get(marked_text, marked_text)\n",
    "    else:\n",
    "        # If not found, return a default value indicating no marked text was found\n",
    "        return \"marker_not_found\"\n",
    "\n",
    "\n",
    "gt_data[\"extracted_number\"] = gt_data[\"gemini-output-raw\"].apply(extract_marked_text)"
   ]
  },
  {
   "cell_type": "code",
   "execution_count": 8,
   "metadata": {},
   "outputs": [
    {
     "data": {
      "text/plain": [
       "predicted\n",
       "5    54\n",
       "2    30\n",
       "3    30\n",
       "4     6\n",
       "Name: count, dtype: int64"
      ]
     },
     "execution_count": 8,
     "metadata": {},
     "output_type": "execute_result"
    }
   ],
   "source": [
    "gt_data[\"extracted_number\"].value_counts()"
   ]
  },
  {
   "cell_type": "code",
   "execution_count": 9,
   "metadata": {},
   "outputs": [],
   "source": [
    "cleaned_data = gt_data.copy()\n",
    "# drop squares column\n",
    "cleaned_data = cleaned_data.drop(columns=[\"squares\"])"
   ]
  },
  {
   "cell_type": "code",
   "execution_count": 10,
   "metadata": {},
   "outputs": [
    {
     "name": "stdout",
     "output_type": "stream",
     "text": [
      "Overall Accuracy: 80.00%\n"
     ]
    }
   ],
   "source": [
    "# Ensure both columns are of integer type before comparison\n",
    "cleaned_data[\"depth\"] = cleaned_data[\"depth\"].astype(int)\n",
    "cleaned_data[\"extracted_number\"] = cleaned_data[\"extracted_number\"].astype(int)\n",
    "\n",
    "cleaned_data[\"is_correct\"] = cleaned_data[\"depth\"] == cleaned_data[\"extracted_number\"]\n",
    "# Calculate accuracy\n",
    "accuracy = cleaned_data[\"is_correct\"].mean()\n",
    "print(f\"Overall Accuracy: {accuracy * 100:.2f}%\")"
   ]
  },
  {
   "cell_type": "code",
   "execution_count": 11,
   "metadata": {},
   "outputs": [
    {
     "data": {
      "text/plain": [
       "120"
      ]
     },
     "execution_count": 11,
     "metadata": {},
     "output_type": "execute_result"
    }
   ],
   "source": [
    "len(cleaned_data)"
   ]
  },
  {
   "cell_type": "code",
   "execution_count": 12,
   "metadata": {},
   "outputs": [
    {
     "name": "stderr",
     "output_type": "stream",
     "text": [
      "/var/folders/y1/b5wjnkp96_b7cvzncx0zsry40000gn/T/ipykernel_20355/108657126.py:7: DeprecationWarning: DataFrameGroupBy.apply operated on the grouping columns. This behavior is deprecated, and in a future version of pandas the grouping columns will be excluded from the operation. Either pass `include_groups=False` to exclude the groupings or explicitly select the grouping columns after groupby to silence this warning.\n",
      "  accuracy_by_thickness = cleaned_data.groupby(\"line_thickness\").apply(\n"
     ]
    },
    {
     "data": {
      "text/plain": [
       "line_thickness\n",
       "2    80.0\n",
       "3    80.0\n",
       "4    80.0\n",
       "dtype: float64"
      ]
     },
     "execution_count": 12,
     "metadata": {},
     "output_type": "execute_result"
    }
   ],
   "source": [
    "# Assuming 'cleaned_data' DataFrame has columns 'line_thickness', 'num_intersections', and 'extracted_number'\n",
    "\n",
    "# Convert line_thickness to an appropriate numeric type if necessary\n",
    "cleaned_data[\"line_thickness\"] = cleaned_data[\"line_thickness\"].astype(int)\n",
    "\n",
    "# Calculate accuracy for each thickness\n",
    "accuracy_by_thickness = cleaned_data.groupby(\"line_thickness\").apply(\n",
    "    lambda df: (df[\"is_correct\"]).mean()\n",
    ")\n",
    "\n",
    "accuracy_by_thickness = 100 * accuracy_by_thickness.round(2)\n",
    "accuracy_by_thickness"
   ]
  },
  {
   "cell_type": "code",
   "execution_count": 13,
   "metadata": {},
   "outputs": [
    {
     "name": "stderr",
     "output_type": "stream",
     "text": [
      "/var/folders/y1/b5wjnkp96_b7cvzncx0zsry40000gn/T/ipykernel_20355/1882676781.py:5: DeprecationWarning: DataFrameGroupBy.apply operated on the grouping columns. This behavior is deprecated, and in a future version of pandas the grouping columns will be excluded from the operation. Either pass `include_groups=False` to exclude the groupings or explicitly select the grouping columns after groupby to silence this warning.\n",
      "  accuracy_by_thickness = cleaned_data.groupby(\"depth\").apply(\n"
     ]
    },
    {
     "data": {
      "text/plain": [
       "depth\n",
       "2    100.0\n",
       "3    100.0\n",
       "4     20.0\n",
       "5    100.0\n",
       "dtype: float64"
      ]
     },
     "execution_count": 13,
     "metadata": {},
     "output_type": "execute_result"
    }
   ],
   "source": [
    "# Convert line_thickness to an appropriate numeric type if necessary\n",
    "cleaned_data[\"depth\"] = cleaned_data[\"depth\"].astype(int)\n",
    "\n",
    "# Calculate accuracy for each thickness\n",
    "accuracy_by_thickness = cleaned_data.groupby(\"depth\").apply(\n",
    "    lambda df: (df[\"is_correct\"]).mean()\n",
    ")\n",
    "\n",
    "accuracy_by_thickness = 100 * accuracy_by_thickness.round(2)\n",
    "accuracy_by_thickness"
   ]
  },
  {
   "cell_type": "markdown",
   "metadata": {},
   "source": [
    "# Export"
   ]
  },
  {
   "cell_type": "code",
   "execution_count": 14,
   "metadata": {},
   "outputs": [],
   "source": [
    "cleaned_data.drop([\"gemini-output-file\"], axis=1, inplace=True)\n",
    "cleaned_data.rename(columns={\"gemini-output-raw\": \"model_output_raw\"}, inplace=True)"
   ]
  },
  {
   "cell_type": "code",
   "execution_count": 15,
   "metadata": {},
   "outputs": [],
   "source": [
    "cleaned_data[\"Model\"] = [\"Gemini-1.5-Pro\"] * len(cleaned_data)\n",
    "cleaned_data.to_pickle(\"./data/gemini-1.5-pro.pkl\")"
   ]
  },
  {
   "cell_type": "code",
   "execution_count": 16,
   "metadata": {},
   "outputs": [
    {
     "data": {
      "text/html": [
       "<div>\n",
       "<style scoped>\n",
       "    .dataframe tbody tr th:only-of-type {\n",
       "        vertical-align: middle;\n",
       "    }\n",
       "\n",
       "    .dataframe tbody tr th {\n",
       "        vertical-align: top;\n",
       "    }\n",
       "\n",
       "    .dataframe thead th {\n",
       "        text-align: right;\n",
       "    }\n",
       "</style>\n",
       "<table border=\"1\" class=\"dataframe\">\n",
       "  <thead>\n",
       "    <tr style=\"text-align: right;\">\n",
       "      <th></th>\n",
       "      <th>image_name</th>\n",
       "      <th>depth</th>\n",
       "      <th>center</th>\n",
       "      <th>initial_size</th>\n",
       "      <th>reduction_factor</th>\n",
       "      <th>line_thickness</th>\n",
       "      <th>padding</th>\n",
       "      <th>model_output_raw</th>\n",
       "      <th>predicted</th>\n",
       "      <th>is_correct</th>\n",
       "      <th>Model</th>\n",
       "    </tr>\n",
       "  </thead>\n",
       "  <tbody>\n",
       "    <tr>\n",
       "      <th>0</th>\n",
       "      <td>nested_squares_depth_2_image_1_thickness_2.png</td>\n",
       "      <td>2</td>\n",
       "      <td>[-2.2395532434656262, -2.245365217594155]</td>\n",
       "      <td>17.574157</td>\n",
       "      <td>0.75</td>\n",
       "      <td>2</td>\n",
       "      <td>0.75</td>\n",
       "      <td>There are **2** squares in the image. \\n</td>\n",
       "      <td>2</td>\n",
       "      <td>True</td>\n",
       "      <td>Gemini-1.5-Pro</td>\n",
       "    </tr>\n",
       "    <tr>\n",
       "      <th>1</th>\n",
       "      <td>nested_squares_depth_2_image_1_thickness_3.png</td>\n",
       "      <td>2</td>\n",
       "      <td>[-2.2395532434656262, -2.245365217594155]</td>\n",
       "      <td>17.574157</td>\n",
       "      <td>0.75</td>\n",
       "      <td>3</td>\n",
       "      <td>0.75</td>\n",
       "      <td>There are **2** squares in the image. \\n</td>\n",
       "      <td>2</td>\n",
       "      <td>True</td>\n",
       "      <td>Gemini-1.5-Pro</td>\n",
       "    </tr>\n",
       "    <tr>\n",
       "      <th>2</th>\n",
       "      <td>nested_squares_depth_2_image_1_thickness_4.png</td>\n",
       "      <td>2</td>\n",
       "      <td>[-2.2395532434656262, -2.245365217594155]</td>\n",
       "      <td>17.574157</td>\n",
       "      <td>0.75</td>\n",
       "      <td>4</td>\n",
       "      <td>0.75</td>\n",
       "      <td>There are **2** squares in the image. \\n</td>\n",
       "      <td>2</td>\n",
       "      <td>True</td>\n",
       "      <td>Gemini-1.5-Pro</td>\n",
       "    </tr>\n",
       "    <tr>\n",
       "      <th>3</th>\n",
       "      <td>nested_squares_depth_2_image_2_thickness_2.png</td>\n",
       "      <td>2</td>\n",
       "      <td>[4.522003363881829, 1.575293928741691]</td>\n",
       "      <td>12.158126</td>\n",
       "      <td>0.75</td>\n",
       "      <td>2</td>\n",
       "      <td>0.75</td>\n",
       "      <td>There are **two** squares in the image. \\n</td>\n",
       "      <td>2</td>\n",
       "      <td>True</td>\n",
       "      <td>Gemini-1.5-Pro</td>\n",
       "    </tr>\n",
       "    <tr>\n",
       "      <th>4</th>\n",
       "      <td>nested_squares_depth_2_image_2_thickness_3.png</td>\n",
       "      <td>2</td>\n",
       "      <td>[4.522003363881829, 1.575293928741691]</td>\n",
       "      <td>12.158126</td>\n",
       "      <td>0.75</td>\n",
       "      <td>3</td>\n",
       "      <td>0.75</td>\n",
       "      <td>There are **two** squares in the image. \\n</td>\n",
       "      <td>2</td>\n",
       "      <td>True</td>\n",
       "      <td>Gemini-1.5-Pro</td>\n",
       "    </tr>\n",
       "    <tr>\n",
       "      <th>...</th>\n",
       "      <td>...</td>\n",
       "      <td>...</td>\n",
       "      <td>...</td>\n",
       "      <td>...</td>\n",
       "      <td>...</td>\n",
       "      <td>...</td>\n",
       "      <td>...</td>\n",
       "      <td>...</td>\n",
       "      <td>...</td>\n",
       "      <td>...</td>\n",
       "      <td>...</td>\n",
       "    </tr>\n",
       "    <tr>\n",
       "      <th>115</th>\n",
       "      <td>nested_squares_depth_5_image_9_thickness_3.png</td>\n",
       "      <td>5</td>\n",
       "      <td>[4.67396043765117, -3.083874562085932]</td>\n",
       "      <td>10.089593</td>\n",
       "      <td>0.75</td>\n",
       "      <td>3</td>\n",
       "      <td>0.75</td>\n",
       "      <td>There are **5** squares in the image. \\n</td>\n",
       "      <td>5</td>\n",
       "      <td>True</td>\n",
       "      <td>Gemini-1.5-Pro</td>\n",
       "    </tr>\n",
       "    <tr>\n",
       "      <th>116</th>\n",
       "      <td>nested_squares_depth_5_image_9_thickness_4.png</td>\n",
       "      <td>5</td>\n",
       "      <td>[4.67396043765117, -3.083874562085932]</td>\n",
       "      <td>10.089593</td>\n",
       "      <td>0.75</td>\n",
       "      <td>4</td>\n",
       "      <td>0.75</td>\n",
       "      <td>There are **5** squares in the image. \\n</td>\n",
       "      <td>5</td>\n",
       "      <td>True</td>\n",
       "      <td>Gemini-1.5-Pro</td>\n",
       "    </tr>\n",
       "    <tr>\n",
       "      <th>117</th>\n",
       "      <td>nested_squares_depth_5_image_10_thickness_2.png</td>\n",
       "      <td>5</td>\n",
       "      <td>[1.960921482573098, 0.529244414005689]</td>\n",
       "      <td>8.411051</td>\n",
       "      <td>0.75</td>\n",
       "      <td>2</td>\n",
       "      <td>0.75</td>\n",
       "      <td>There are **5** squares in the image. \\n</td>\n",
       "      <td>5</td>\n",
       "      <td>True</td>\n",
       "      <td>Gemini-1.5-Pro</td>\n",
       "    </tr>\n",
       "    <tr>\n",
       "      <th>118</th>\n",
       "      <td>nested_squares_depth_5_image_10_thickness_3.png</td>\n",
       "      <td>5</td>\n",
       "      <td>[1.960921482573098, 0.529244414005689]</td>\n",
       "      <td>8.411051</td>\n",
       "      <td>0.75</td>\n",
       "      <td>3</td>\n",
       "      <td>0.75</td>\n",
       "      <td>There are **5** squares in the image. \\n</td>\n",
       "      <td>5</td>\n",
       "      <td>True</td>\n",
       "      <td>Gemini-1.5-Pro</td>\n",
       "    </tr>\n",
       "    <tr>\n",
       "      <th>119</th>\n",
       "      <td>nested_squares_depth_5_image_10_thickness_4.png</td>\n",
       "      <td>5</td>\n",
       "      <td>[1.960921482573098, 0.529244414005689]</td>\n",
       "      <td>8.411051</td>\n",
       "      <td>0.75</td>\n",
       "      <td>4</td>\n",
       "      <td>0.75</td>\n",
       "      <td>There are **5** squares in the image. \\n</td>\n",
       "      <td>5</td>\n",
       "      <td>True</td>\n",
       "      <td>Gemini-1.5-Pro</td>\n",
       "    </tr>\n",
       "  </tbody>\n",
       "</table>\n",
       "<p>120 rows × 11 columns</p>\n",
       "</div>"
      ],
      "text/plain": [
       "                                          image_name  depth  \\\n",
       "0     nested_squares_depth_2_image_1_thickness_2.png      2   \n",
       "1     nested_squares_depth_2_image_1_thickness_3.png      2   \n",
       "2     nested_squares_depth_2_image_1_thickness_4.png      2   \n",
       "3     nested_squares_depth_2_image_2_thickness_2.png      2   \n",
       "4     nested_squares_depth_2_image_2_thickness_3.png      2   \n",
       "..                                               ...    ...   \n",
       "115   nested_squares_depth_5_image_9_thickness_3.png      5   \n",
       "116   nested_squares_depth_5_image_9_thickness_4.png      5   \n",
       "117  nested_squares_depth_5_image_10_thickness_2.png      5   \n",
       "118  nested_squares_depth_5_image_10_thickness_3.png      5   \n",
       "119  nested_squares_depth_5_image_10_thickness_4.png      5   \n",
       "\n",
       "                                        center  initial_size  \\\n",
       "0    [-2.2395532434656262, -2.245365217594155]     17.574157   \n",
       "1    [-2.2395532434656262, -2.245365217594155]     17.574157   \n",
       "2    [-2.2395532434656262, -2.245365217594155]     17.574157   \n",
       "3       [4.522003363881829, 1.575293928741691]     12.158126   \n",
       "4       [4.522003363881829, 1.575293928741691]     12.158126   \n",
       "..                                         ...           ...   \n",
       "115     [4.67396043765117, -3.083874562085932]     10.089593   \n",
       "116     [4.67396043765117, -3.083874562085932]     10.089593   \n",
       "117     [1.960921482573098, 0.529244414005689]      8.411051   \n",
       "118     [1.960921482573098, 0.529244414005689]      8.411051   \n",
       "119     [1.960921482573098, 0.529244414005689]      8.411051   \n",
       "\n",
       "     reduction_factor  line_thickness  padding  \\\n",
       "0                0.75               2     0.75   \n",
       "1                0.75               3     0.75   \n",
       "2                0.75               4     0.75   \n",
       "3                0.75               2     0.75   \n",
       "4                0.75               3     0.75   \n",
       "..                ...             ...      ...   \n",
       "115              0.75               3     0.75   \n",
       "116              0.75               4     0.75   \n",
       "117              0.75               2     0.75   \n",
       "118              0.75               3     0.75   \n",
       "119              0.75               4     0.75   \n",
       "\n",
       "                               model_output_raw  predicted  is_correct  \\\n",
       "0      There are **2** squares in the image. \\n          2        True   \n",
       "1      There are **2** squares in the image. \\n          2        True   \n",
       "2      There are **2** squares in the image. \\n          2        True   \n",
       "3    There are **two** squares in the image. \\n          2        True   \n",
       "4    There are **two** squares in the image. \\n          2        True   \n",
       "..                                          ...        ...         ...   \n",
       "115    There are **5** squares in the image. \\n          5        True   \n",
       "116    There are **5** squares in the image. \\n          5        True   \n",
       "117    There are **5** squares in the image. \\n          5        True   \n",
       "118    There are **5** squares in the image. \\n          5        True   \n",
       "119    There are **5** squares in the image. \\n          5        True   \n",
       "\n",
       "              Model  \n",
       "0    Gemini-1.5-Pro  \n",
       "1    Gemini-1.5-Pro  \n",
       "2    Gemini-1.5-Pro  \n",
       "3    Gemini-1.5-Pro  \n",
       "4    Gemini-1.5-Pro  \n",
       "..              ...  \n",
       "115  Gemini-1.5-Pro  \n",
       "116  Gemini-1.5-Pro  \n",
       "117  Gemini-1.5-Pro  \n",
       "118  Gemini-1.5-Pro  \n",
       "119  Gemini-1.5-Pro  \n",
       "\n",
       "[120 rows x 11 columns]"
      ]
     },
     "execution_count": 16,
     "metadata": {},
     "output_type": "execute_result"
    }
   ],
   "source": [
    "cleaned_data"
   ]
  }
 ],
 "metadata": {
  "kernelspec": {
   "display_name": "defaulttorch2",
   "language": "python",
   "name": "python3"
  },
  "language_info": {
   "codemirror_mode": {
    "name": "ipython",
    "version": 3
   },
   "file_extension": ".py",
   "mimetype": "text/x-python",
   "name": "python",
   "nbconvert_exporter": "python",
   "pygments_lexer": "ipython3",
   "version": "3.10.9"
  }
 },
 "nbformat": 4,
 "nbformat_minor": 2
}
