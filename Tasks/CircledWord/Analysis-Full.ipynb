{
 "cells": [
  {
   "cell_type": "code",
   "execution_count": 29,
   "metadata": {},
   "outputs": [],
   "source": [
    "import pandas as pd\n",
    "import json\n",
    "import os\n",
    "import re"
   ]
  },
  {
   "cell_type": "code",
   "execution_count": 30,
   "metadata": {},
   "outputs": [],
   "source": [
    "pickle_files = [\"./data/Sonnet.pkl\", \"./data/GPT-4o.pkl\", \"./data/gemini-1.5-pro.pkl\"]\n",
    "\n",
    "dfs = [pd.read_pickle(file) for file in pickle_files]\n",
    "df = pd.concat(dfs)"
   ]
  },
  {
   "cell_type": "code",
   "execution_count": 31,
   "metadata": {},
   "outputs": [
    {
     "name": "stdout",
     "output_type": "stream",
     "text": [
      "Model           word                \n",
      "GPT-4o          Acknowledgement         68.63\n",
      "                Subdermatoglyphic       63.77\n",
      "                tHyUiKaRbNqWeOpXcZvM    78.53\n",
      "Gemini-1.5-Pro  Acknowledgement         98.33\n",
      "                Subdermatoglyphic       91.42\n",
      "                tHyUiKaRbNqWeOpXcZvM    92.92\n",
      "Sonnet          Acknowledgement         26.67\n",
      "                Subdermatoglyphic       23.53\n",
      "                tHyUiKaRbNqWeOpXcZvM    48.75\n",
      "Name: is_prediction_correct, dtype: float64\n"
     ]
    }
   ],
   "source": [
    "df[\"is_prediction_correct\"] = df[\"gt\"] == df[\"predicted\"]\n",
    "\n",
    "# Group by model and word, then calculate the accuracy\n",
    "accuracy_per_model_and_word = df.groupby([\"Model\", \"word\"])[\n",
    "    \"is_prediction_correct\"\n",
    "].mean()\n",
    "\n",
    "# Convert the accuracy to percentage and print the result\n",
    "accuracy_per_model_and_word = accuracy_per_model_and_word * 100\n",
    "# round 2 decimal places\n",
    "accuracy_per_model_and_word = accuracy_per_model_and_word.round(2)\n",
    "\n",
    "print(accuracy_per_model_and_word)"
   ]
  },
  {
   "cell_type": "code",
   "execution_count": 32,
   "metadata": {},
   "outputs": [
    {
     "name": "stdout",
     "output_type": "stream",
     "text": [
      "Model           word                  font_path                                \n",
      "GPT-4o          Acknowledgement       fonts/Helvetica.ttf                          69.66\n",
      "                                      fonts/OpenSans-VariableFont_wdth,wght.ttf    67.60\n",
      "                Subdermatoglyphic     fonts/Helvetica.ttf                          67.98\n",
      "                                      fonts/OpenSans-VariableFont_wdth,wght.ttf    59.50\n",
      "                tHyUiKaRbNqWeOpXcZvM  fonts/Helvetica.ttf                          82.28\n",
      "                                      fonts/OpenSans-VariableFont_wdth,wght.ttf    74.79\n",
      "Gemini-1.5-Pro  Acknowledgement       fonts/Helvetica.ttf                          98.89\n",
      "                                      fonts/OpenSans-VariableFont_wdth,wght.ttf    97.78\n",
      "                Subdermatoglyphic     fonts/Helvetica.ttf                          91.18\n",
      "                                      fonts/OpenSans-VariableFont_wdth,wght.ttf    91.67\n",
      "                tHyUiKaRbNqWeOpXcZvM  fonts/Helvetica.ttf                          95.83\n",
      "                                      fonts/OpenSans-VariableFont_wdth,wght.ttf    90.00\n",
      "Sonnet          Acknowledgement       fonts/Helvetica.ttf                          25.00\n",
      "                                      fonts/OpenSans-VariableFont_wdth,wght.ttf    28.33\n",
      "                Subdermatoglyphic     fonts/Helvetica.ttf                          23.53\n",
      "                                      fonts/OpenSans-VariableFont_wdth,wght.ttf    23.53\n",
      "                tHyUiKaRbNqWeOpXcZvM  fonts/Helvetica.ttf                          52.50\n",
      "                                      fonts/OpenSans-VariableFont_wdth,wght.ttf    45.00\n",
      "Name: is_prediction_correct, dtype: float64\n"
     ]
    }
   ],
   "source": [
    "# Assuming 'df' has a column named 'font' that contains the font information for each entry.\n",
    "\n",
    "# Group by model, word, and font, then calculate the accuracy\n",
    "accuracy_per_model_word_font = df.groupby([\"Model\", \"word\", \"font_path\"])[\n",
    "    \"is_prediction_correct\"\n",
    "].mean()\n",
    "\n",
    "# Convert the accuracy to percentage and round to 2 decimal places\n",
    "accuracy_per_model_word_font = (accuracy_per_model_word_font * 100).round(2)\n",
    "\n",
    "print(accuracy_per_model_word_font)"
   ]
  },
  {
   "cell_type": "code",
   "execution_count": null,
   "metadata": {},
   "outputs": [],
   "source": []
  },
  {
   "cell_type": "code",
   "execution_count": null,
   "metadata": {},
   "outputs": [],
   "source": []
  },
  {
   "cell_type": "code",
   "execution_count": null,
   "metadata": {},
   "outputs": [],
   "source": []
  },
  {
   "cell_type": "code",
   "execution_count": null,
   "metadata": {},
   "outputs": [],
   "source": []
  }
 ],
 "metadata": {
  "kernelspec": {
   "display_name": "defaulttorch2",
   "language": "python",
   "name": "python3"
  },
  "language_info": {
   "codemirror_mode": {
    "name": "ipython",
    "version": 3
   },
   "file_extension": ".py",
   "mimetype": "text/x-python",
   "name": "python",
   "nbconvert_exporter": "python",
   "pygments_lexer": "ipython3",
   "version": "3.10.9"
  }
 },
 "nbformat": 4,
 "nbformat_minor": 2
}
