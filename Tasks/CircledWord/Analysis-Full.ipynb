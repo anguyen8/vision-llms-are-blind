{
 "cells": [
  {
   "cell_type": "code",
   "execution_count": 1,
   "metadata": {},
   "outputs": [],
   "source": [
    "import pandas as pd\n",
    "import json\n",
    "import os\n",
    "import re"
   ]
  },
  {
   "cell_type": "code",
   "execution_count": 2,
   "metadata": {},
   "outputs": [],
   "source": [
    "pickle_files = [\"./data/Sonnet.pkl\", \"./data/GPT-4o.pkl\", \"./data/gemini-1.5-pro.pkl\"]\n",
    "\n",
    "dfs = [pd.read_pickle(file) for file in pickle_files]\n",
    "df = pd.concat(dfs)"
   ]
  },
  {
   "cell_type": "code",
   "execution_count": 3,
   "metadata": {},
   "outputs": [],
   "source": [
    "df_sonnet = df[df[\"Model\"] == \"Sonnet\"]"
   ]
  },
  {
   "cell_type": "code",
   "execution_count": 4,
   "metadata": {},
   "outputs": [
    {
     "data": {
      "text/html": [
       "<div>\n",
       "<style scoped>\n",
       "    .dataframe tbody tr th:only-of-type {\n",
       "        vertical-align: middle;\n",
       "    }\n",
       "\n",
       "    .dataframe tbody tr th {\n",
       "        vertical-align: top;\n",
       "    }\n",
       "\n",
       "    .dataframe thead th {\n",
       "        text-align: right;\n",
       "    }\n",
       "</style>\n",
       "<table border=\"1\" class=\"dataframe\">\n",
       "  <thead>\n",
       "    <tr style=\"text-align: right;\">\n",
       "      <th></th>\n",
       "      <th>model-output-raw</th>\n",
       "      <th>predicted</th>\n",
       "      <th>gt</th>\n",
       "    </tr>\n",
       "  </thead>\n",
       "  <tbody>\n",
       "    <tr>\n",
       "      <th>27</th>\n",
       "      <td>The letter \"c\" in the word \"Acknowledgement\" i...</td>\n",
       "      <td>c</td>\n",
       "      <td>k</td>\n",
       "    </tr>\n",
       "    <tr>\n",
       "      <th>49</th>\n",
       "      <td>The letter \"w\" is being circled in the word \"A...</td>\n",
       "      <td>w</td>\n",
       "      <td>o</td>\n",
       "    </tr>\n",
       "    <tr>\n",
       "      <th>56</th>\n",
       "      <td>The letter \"w\" is being circled in the word \"A...</td>\n",
       "      <td>w</td>\n",
       "      <td>o</td>\n",
       "    </tr>\n",
       "    <tr>\n",
       "      <th>58</th>\n",
       "      <td>The letter \"n\" is being circled in the word \"A...</td>\n",
       "      <td>n</td>\n",
       "      <td>o</td>\n",
       "    </tr>\n",
       "    <tr>\n",
       "      <th>72</th>\n",
       "      <td>The letter 'I' is being circled in the word \"A...</td>\n",
       "      <td>i</td>\n",
       "      <td>l</td>\n",
       "    </tr>\n",
       "    <tr>\n",
       "      <th>...</th>\n",
       "      <td>...</td>\n",
       "      <td>...</td>\n",
       "      <td>...</td>\n",
       "    </tr>\n",
       "    <tr>\n",
       "      <th>346</th>\n",
       "      <td>The letter being circled in the image is the l...</td>\n",
       "      <td>e</td>\n",
       "      <td>n</td>\n",
       "    </tr>\n",
       "    <tr>\n",
       "      <th>347</th>\n",
       "      <td>The letter being circled in the word \"Acknowle...</td>\n",
       "      <td>o</td>\n",
       "      <td>n</td>\n",
       "    </tr>\n",
       "    <tr>\n",
       "      <th>348</th>\n",
       "      <td>The letter being circled in the image is the l...</td>\n",
       "      <td>g</td>\n",
       "      <td>t</td>\n",
       "    </tr>\n",
       "    <tr>\n",
       "      <th>352</th>\n",
       "      <td>The letter \"g\" in the word \"Acknowledgement\" i...</td>\n",
       "      <td>g</td>\n",
       "      <td>t</td>\n",
       "    </tr>\n",
       "    <tr>\n",
       "      <th>356</th>\n",
       "      <td>The letter being circled in the image is the l...</td>\n",
       "      <td>e</td>\n",
       "      <td>t</td>\n",
       "    </tr>\n",
       "  </tbody>\n",
       "</table>\n",
       "<p>62 rows × 3 columns</p>\n",
       "</div>"
      ],
      "text/plain": [
       "                                      model-output-raw predicted gt\n",
       "27   The letter \"c\" in the word \"Acknowledgement\" i...         c  k\n",
       "49   The letter \"w\" is being circled in the word \"A...         w  o\n",
       "56   The letter \"w\" is being circled in the word \"A...         w  o\n",
       "58   The letter \"n\" is being circled in the word \"A...         n  o\n",
       "72   The letter 'I' is being circled in the word \"A...         i  l\n",
       "..                                                 ...       ... ..\n",
       "346  The letter being circled in the image is the l...         e  n\n",
       "347  The letter being circled in the word \"Acknowle...         o  n\n",
       "348  The letter being circled in the image is the l...         g  t\n",
       "352  The letter \"g\" in the word \"Acknowledgement\" i...         g  t\n",
       "356  The letter being circled in the image is the l...         e  t\n",
       "\n",
       "[62 rows x 3 columns]"
      ]
     },
     "execution_count": 4,
     "metadata": {},
     "output_type": "execute_result"
    }
   ],
   "source": [
    "# # set pandas to show every row and cell and column\n",
    "# pd.set_option(\"display.max_rows\", None)\n",
    "# pd.set_option(\"display.max_columns\", None)\n",
    "# pd.set_option(\"display.max_colwidth\", None)\n",
    "\n",
    "# filter for word Acknowledgement and is_prediction_correct is False\n",
    "MYDF = df_sonnet[\n",
    "    (df_sonnet[\"word\"] == \"Acknowledgement\")\n",
    "    & (df_sonnet[\"is_prediction_correct\"] == False)\n",
    "]\n",
    "\n",
    "# only show  model-output-raw, predicted and gt\n",
    "MYDF = MYDF[[\"model-output-raw\", \"predicted\", \"gt\"]]\n",
    "MYDF"
   ]
  },
  {
   "cell_type": "code",
   "execution_count": null,
   "metadata": {},
   "outputs": [],
   "source": []
  },
  {
   "cell_type": "code",
   "execution_count": 5,
   "metadata": {},
   "outputs": [
    {
     "name": "stdout",
     "output_type": "stream",
     "text": [
      "Model           word                \n",
      "GPT-4o          Acknowledgement         68.63\n",
      "                Subdermatoglyphic       63.77\n",
      "                tHyUiKaRbNqWeOpXcZvM    78.53\n",
      "Gemini-1.5-Pro  Acknowledgement         98.33\n",
      "                Subdermatoglyphic       91.42\n",
      "                tHyUiKaRbNqWeOpXcZvM    92.92\n",
      "Sonnet          Acknowledgement         82.78\n",
      "                Subdermatoglyphic       71.57\n",
      "                tHyUiKaRbNqWeOpXcZvM    65.62\n",
      "Name: is_prediction_correct, dtype: float64\n"
     ]
    }
   ],
   "source": [
    "df[\"is_prediction_correct\"] = df[\"gt\"] == df[\"predicted\"]\n",
    "\n",
    "# Group by model and word, then calculate the accuracy\n",
    "accuracy_per_model_and_word = df.groupby([\"Model\", \"word\"])[\n",
    "    \"is_prediction_correct\"\n",
    "].mean()\n",
    "\n",
    "# Convert the accuracy to percentage and print the result\n",
    "accuracy_per_model_and_word = accuracy_per_model_and_word * 100\n",
    "# round 2 decimal places\n",
    "accuracy_per_model_and_word = accuracy_per_model_and_word.round(2)\n",
    "\n",
    "print(accuracy_per_model_and_word)"
   ]
  },
  {
   "cell_type": "code",
   "execution_count": 11,
   "metadata": {},
   "outputs": [
    {
     "data": {
      "text/plain": [
       "Model\n",
       "GPT-4o            70.85\n",
       "Gemini-1.5-Pro    93.99\n",
       "Sonnet            72.52\n",
       "Name: is_prediction_correct, dtype: float64"
      ]
     },
     "execution_count": 11,
     "metadata": {},
     "output_type": "execute_result"
    }
   ],
   "source": [
    "# get  average per model\n",
    "df_average = df.groupby(\"Model\")[\"is_prediction_correct\"].mean()\n",
    "df_average = df_average * 100\n",
    "df_average = df_average.round(2)\n",
    "df_average"
   ]
  },
  {
   "cell_type": "code",
   "execution_count": 6,
   "metadata": {},
   "outputs": [
    {
     "name": "stdout",
     "output_type": "stream",
     "text": [
      "\\begin{tabular}{llr}\n",
      "\\toprule\n",
      " &  & is_prediction_correct \\\\\n",
      "Model & word &  \\\\\n",
      "\\midrule\n",
      "\\multirow[t]{3}{*}{GPT-4o} & Acknowledgement & 68.630000 \\\\\n",
      " & Subdermatoglyphic & 63.770000 \\\\\n",
      " & tHyUiKaRbNqWeOpXcZvM & 78.530000 \\\\\n",
      "\\cline{1-3}\n",
      "\\multirow[t]{3}{*}{Gemini-1.5-Pro} & Acknowledgement & 98.330000 \\\\\n",
      " & Subdermatoglyphic & 91.420000 \\\\\n",
      " & tHyUiKaRbNqWeOpXcZvM & 92.920000 \\\\\n",
      "\\cline{1-3}\n",
      "\\multirow[t]{3}{*}{Sonnet} & Acknowledgement & 82.780000 \\\\\n",
      " & Subdermatoglyphic & 71.570000 \\\\\n",
      " & tHyUiKaRbNqWeOpXcZvM & 65.620000 \\\\\n",
      "\\cline{1-3}\n",
      "\\bottomrule\n",
      "\\end{tabular}\n",
      "\n"
     ]
    }
   ],
   "source": [
    "print(accuracy_per_model_and_word.to_latex())"
   ]
  },
  {
   "cell_type": "code",
   "execution_count": null,
   "metadata": {},
   "outputs": [],
   "source": []
  },
  {
   "cell_type": "code",
   "execution_count": 7,
   "metadata": {},
   "outputs": [
    {
     "name": "stdout",
     "output_type": "stream",
     "text": [
      "Model           word                  font_path                                \n",
      "GPT-4o          Acknowledgement       fonts/Helvetica.ttf                          69.66\n",
      "                                      fonts/OpenSans-VariableFont_wdth,wght.ttf    67.60\n",
      "                Subdermatoglyphic     fonts/Helvetica.ttf                          67.98\n",
      "                                      fonts/OpenSans-VariableFont_wdth,wght.ttf    59.50\n",
      "                tHyUiKaRbNqWeOpXcZvM  fonts/Helvetica.ttf                          82.28\n",
      "                                      fonts/OpenSans-VariableFont_wdth,wght.ttf    74.79\n",
      "Gemini-1.5-Pro  Acknowledgement       fonts/Helvetica.ttf                          98.89\n",
      "                                      fonts/OpenSans-VariableFont_wdth,wght.ttf    97.78\n",
      "                Subdermatoglyphic     fonts/Helvetica.ttf                          91.18\n",
      "                                      fonts/OpenSans-VariableFont_wdth,wght.ttf    91.67\n",
      "                tHyUiKaRbNqWeOpXcZvM  fonts/Helvetica.ttf                          95.83\n",
      "                                      fonts/OpenSans-VariableFont_wdth,wght.ttf    90.00\n",
      "Sonnet          Acknowledgement       fonts/Helvetica.ttf                          82.78\n",
      "                                      fonts/OpenSans-VariableFont_wdth,wght.ttf    82.78\n",
      "                Subdermatoglyphic     fonts/Helvetica.ttf                          70.10\n",
      "                                      fonts/OpenSans-VariableFont_wdth,wght.ttf    73.04\n",
      "                tHyUiKaRbNqWeOpXcZvM  fonts/Helvetica.ttf                          69.58\n",
      "                                      fonts/OpenSans-VariableFont_wdth,wght.ttf    61.67\n",
      "Name: is_prediction_correct, dtype: float64\n"
     ]
    }
   ],
   "source": [
    "# Assuming 'df' has a column named 'font' that contains the font information for each entry.\n",
    "\n",
    "# Group by model, word, and font, then calculate the accuracy\n",
    "accuracy_per_model_word_font = df.groupby([\"Model\", \"word\", \"font_path\"])[\n",
    "    \"is_prediction_correct\"\n",
    "].mean()\n",
    "\n",
    "# Convert the accuracy to percentage and round to 2 decimal places\n",
    "accuracy_per_model_word_font = (accuracy_per_model_word_font * 100).round(2)\n",
    "\n",
    "print(accuracy_per_model_word_font)"
   ]
  },
  {
   "cell_type": "code",
   "execution_count": 8,
   "metadata": {},
   "outputs": [
    {
     "name": "stdout",
     "output_type": "stream",
     "text": [
      "\\begin{tabular}{lllr}\n",
      "\\toprule\n",
      " &  &  & is_prediction_correct \\\\\n",
      "Model & word & font_path &  \\\\\n",
      "\\midrule\n",
      "\\multirow[t]{6}{*}{GPT-4o} & \\multirow[t]{2}{*}{Acknowledgement} & fonts/Helvetica.ttf & 69.660000 \\\\\n",
      " &  & fonts/OpenSans-VariableFont_wdth,wght.ttf & 67.600000 \\\\\n",
      "\\cline{2-4}\n",
      " & \\multirow[t]{2}{*}{Subdermatoglyphic} & fonts/Helvetica.ttf & 67.980000 \\\\\n",
      " &  & fonts/OpenSans-VariableFont_wdth,wght.ttf & 59.500000 \\\\\n",
      "\\cline{2-4}\n",
      " & \\multirow[t]{2}{*}{tHyUiKaRbNqWeOpXcZvM} & fonts/Helvetica.ttf & 82.280000 \\\\\n",
      " &  & fonts/OpenSans-VariableFont_wdth,wght.ttf & 74.790000 \\\\\n",
      "\\cline{1-4} \\cline{2-4}\n",
      "\\multirow[t]{6}{*}{Gemini-1.5-Pro} & \\multirow[t]{2}{*}{Acknowledgement} & fonts/Helvetica.ttf & 98.890000 \\\\\n",
      " &  & fonts/OpenSans-VariableFont_wdth,wght.ttf & 97.780000 \\\\\n",
      "\\cline{2-4}\n",
      " & \\multirow[t]{2}{*}{Subdermatoglyphic} & fonts/Helvetica.ttf & 91.180000 \\\\\n",
      " &  & fonts/OpenSans-VariableFont_wdth,wght.ttf & 91.670000 \\\\\n",
      "\\cline{2-4}\n",
      " & \\multirow[t]{2}{*}{tHyUiKaRbNqWeOpXcZvM} & fonts/Helvetica.ttf & 95.830000 \\\\\n",
      " &  & fonts/OpenSans-VariableFont_wdth,wght.ttf & 90.000000 \\\\\n",
      "\\cline{1-4} \\cline{2-4}\n",
      "\\multirow[t]{6}{*}{Sonnet} & \\multirow[t]{2}{*}{Acknowledgement} & fonts/Helvetica.ttf & 82.780000 \\\\\n",
      " &  & fonts/OpenSans-VariableFont_wdth,wght.ttf & 82.780000 \\\\\n",
      "\\cline{2-4}\n",
      " & \\multirow[t]{2}{*}{Subdermatoglyphic} & fonts/Helvetica.ttf & 70.100000 \\\\\n",
      " &  & fonts/OpenSans-VariableFont_wdth,wght.ttf & 73.040000 \\\\\n",
      "\\cline{2-4}\n",
      " & \\multirow[t]{2}{*}{tHyUiKaRbNqWeOpXcZvM} & fonts/Helvetica.ttf & 69.580000 \\\\\n",
      " &  & fonts/OpenSans-VariableFont_wdth,wght.ttf & 61.670000 \\\\\n",
      "\\cline{1-4} \\cline{2-4}\n",
      "\\bottomrule\n",
      "\\end{tabular}\n",
      "\n"
     ]
    }
   ],
   "source": [
    "print(accuracy_per_model_word_font.to_latex())"
   ]
  },
  {
   "cell_type": "code",
   "execution_count": null,
   "metadata": {},
   "outputs": [],
   "source": []
  },
  {
   "cell_type": "code",
   "execution_count": null,
   "metadata": {},
   "outputs": [],
   "source": []
  },
  {
   "cell_type": "code",
   "execution_count": null,
   "metadata": {},
   "outputs": [],
   "source": []
  }
 ],
 "metadata": {
  "kernelspec": {
   "display_name": "defaulttorch2",
   "language": "python",
   "name": "python3"
  },
  "language_info": {
   "codemirror_mode": {
    "name": "ipython",
    "version": 3
   },
   "file_extension": ".py",
   "mimetype": "text/x-python",
   "name": "python",
   "nbconvert_exporter": "python",
   "pygments_lexer": "ipython3",
   "version": "3.10.9"
  }
 },
 "nbformat": 4,
 "nbformat_minor": 2
}
