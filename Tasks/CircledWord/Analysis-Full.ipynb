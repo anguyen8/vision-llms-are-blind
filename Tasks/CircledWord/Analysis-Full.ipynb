{
 "cells": [
  {
   "cell_type": "code",
   "execution_count": 38,
   "metadata": {},
   "outputs": [],
   "source": [
    "import pandas as pd\n",
    "import json\n",
    "import os\n",
    "import re"
   ]
  },
  {
   "cell_type": "code",
   "execution_count": 39,
   "metadata": {},
   "outputs": [],
   "source": [
    "pickle_files = [\"./data/Sonnet.pkl\", \"./data/GPT-4o.pkl\", \"./data/gemini-1.5-pro.pkl\"]\n",
    "\n",
    "dfs = [pd.read_pickle(file) for file in pickle_files]\n",
    "df = pd.concat(dfs)"
   ]
  },
  {
   "cell_type": "code",
   "execution_count": 40,
   "metadata": {},
   "outputs": [
    {
     "name": "stdout",
     "output_type": "stream",
     "text": [
      "Model           word                \n",
      "GPT-4o          Acknowledgement         68.63\n",
      "                Subdermatoglyphic       63.77\n",
      "                tHyUiKaRbNqWeOpXcZvM    78.53\n",
      "Gemini-1.5-Pro  Acknowledgement         98.33\n",
      "                Subdermatoglyphic       91.42\n",
      "                tHyUiKaRbNqWeOpXcZvM    92.92\n",
      "Sonnet          Acknowledgement         26.67\n",
      "                Subdermatoglyphic       23.53\n",
      "                tHyUiKaRbNqWeOpXcZvM    48.75\n",
      "Name: is_prediction_correct, dtype: float64\n"
     ]
    }
   ],
   "source": [
    "df[\"is_prediction_correct\"] = df[\"gt\"] == df[\"predicted\"]\n",
    "\n",
    "# Group by model and word, then calculate the accuracy\n",
    "accuracy_per_model_and_word = df.groupby([\"Model\", \"word\"])[\n",
    "    \"is_prediction_correct\"\n",
    "].mean()\n",
    "\n",
    "# Convert the accuracy to percentage and print the result\n",
    "accuracy_per_model_and_word = accuracy_per_model_and_word * 100\n",
    "# round 2 decimal places\n",
    "accuracy_per_model_and_word = accuracy_per_model_and_word.round(2)\n",
    "\n",
    "print(accuracy_per_model_and_word)"
   ]
  },
  {
   "cell_type": "code",
   "execution_count": 44,
   "metadata": {},
   "outputs": [
    {
     "name": "stdout",
     "output_type": "stream",
     "text": [
      "\\begin{tabular}{llr}\n",
      "\\toprule\n",
      " &  & is_prediction_correct \\\\\n",
      "Model & word &  \\\\\n",
      "\\midrule\n",
      "\\multirow[t]{3}{*}{GPT-4o} & Acknowledgement & 68.630000 \\\\\n",
      " & Subdermatoglyphic & 63.770000 \\\\\n",
      " & tHyUiKaRbNqWeOpXcZvM & 78.530000 \\\\\n",
      "\\cline{1-3}\n",
      "\\multirow[t]{3}{*}{Gemini-1.5-Pro} & Acknowledgement & 98.330000 \\\\\n",
      " & Subdermatoglyphic & 91.420000 \\\\\n",
      " & tHyUiKaRbNqWeOpXcZvM & 92.920000 \\\\\n",
      "\\cline{1-3}\n",
      "\\multirow[t]{3}{*}{Sonnet} & Acknowledgement & 26.670000 \\\\\n",
      " & Subdermatoglyphic & 23.530000 \\\\\n",
      " & tHyUiKaRbNqWeOpXcZvM & 48.750000 \\\\\n",
      "\\cline{1-3}\n",
      "\\bottomrule\n",
      "\\end{tabular}\n",
      "\n"
     ]
    }
   ],
   "source": [
    "print(accuracy_per_model_and_word.to_latex())"
   ]
  },
  {
   "cell_type": "code",
   "execution_count": null,
   "metadata": {},
   "outputs": [],
   "source": []
  },
  {
   "cell_type": "code",
   "execution_count": 36,
   "metadata": {},
   "outputs": [
    {
     "name": "stdout",
     "output_type": "stream",
     "text": [
      "Model           word                  font_path                                \n",
      "GPT-4o          Acknowledgement       fonts/Helvetica.ttf                          69.66\n",
      "                                      fonts/OpenSans-VariableFont_wdth,wght.ttf    67.60\n",
      "                Subdermatoglyphic     fonts/Helvetica.ttf                          67.98\n",
      "                                      fonts/OpenSans-VariableFont_wdth,wght.ttf    59.50\n",
      "                tHyUiKaRbNqWeOpXcZvM  fonts/Helvetica.ttf                          82.28\n",
      "                                      fonts/OpenSans-VariableFont_wdth,wght.ttf    74.79\n",
      "Gemini-1.5-Pro  Acknowledgement       fonts/Helvetica.ttf                          98.89\n",
      "                                      fonts/OpenSans-VariableFont_wdth,wght.ttf    97.78\n",
      "                Subdermatoglyphic     fonts/Helvetica.ttf                          91.18\n",
      "                                      fonts/OpenSans-VariableFont_wdth,wght.ttf    91.67\n",
      "                tHyUiKaRbNqWeOpXcZvM  fonts/Helvetica.ttf                          95.83\n",
      "                                      fonts/OpenSans-VariableFont_wdth,wght.ttf    90.00\n",
      "Sonnet          Acknowledgement       fonts/Helvetica.ttf                          25.00\n",
      "                                      fonts/OpenSans-VariableFont_wdth,wght.ttf    28.33\n",
      "                Subdermatoglyphic     fonts/Helvetica.ttf                          23.53\n",
      "                                      fonts/OpenSans-VariableFont_wdth,wght.ttf    23.53\n",
      "                tHyUiKaRbNqWeOpXcZvM  fonts/Helvetica.ttf                          52.50\n",
      "                                      fonts/OpenSans-VariableFont_wdth,wght.ttf    45.00\n",
      "Name: is_prediction_correct, dtype: float64\n"
     ]
    }
   ],
   "source": [
    "# Assuming 'df' has a column named 'font' that contains the font information for each entry.\n",
    "\n",
    "# Group by model, word, and font, then calculate the accuracy\n",
    "accuracy_per_model_word_font = df.groupby([\"Model\", \"word\", \"font_path\"])[\n",
    "    \"is_prediction_correct\"\n",
    "].mean()\n",
    "\n",
    "# Convert the accuracy to percentage and round to 2 decimal places\n",
    "accuracy_per_model_word_font = (accuracy_per_model_word_font * 100).round(2)\n",
    "\n",
    "print(accuracy_per_model_word_font)"
   ]
  },
  {
   "cell_type": "code",
   "execution_count": 45,
   "metadata": {},
   "outputs": [
    {
     "name": "stdout",
     "output_type": "stream",
     "text": [
      "\\begin{tabular}{lllr}\n",
      "\\toprule\n",
      " &  &  & is_prediction_correct \\\\\n",
      "Model & word & font_path &  \\\\\n",
      "\\midrule\n",
      "\\multirow[t]{6}{*}{GPT-4o} & \\multirow[t]{2}{*}{Acknowledgement} & fonts/Helvetica.ttf & 69.660000 \\\\\n",
      " &  & fonts/OpenSans-VariableFont_wdth,wght.ttf & 67.600000 \\\\\n",
      "\\cline{2-4}\n",
      " & \\multirow[t]{2}{*}{Subdermatoglyphic} & fonts/Helvetica.ttf & 67.980000 \\\\\n",
      " &  & fonts/OpenSans-VariableFont_wdth,wght.ttf & 59.500000 \\\\\n",
      "\\cline{2-4}\n",
      " & \\multirow[t]{2}{*}{tHyUiKaRbNqWeOpXcZvM} & fonts/Helvetica.ttf & 82.280000 \\\\\n",
      " &  & fonts/OpenSans-VariableFont_wdth,wght.ttf & 74.790000 \\\\\n",
      "\\cline{1-4} \\cline{2-4}\n",
      "\\multirow[t]{6}{*}{Gemini-1.5-Pro} & \\multirow[t]{2}{*}{Acknowledgement} & fonts/Helvetica.ttf & 98.890000 \\\\\n",
      " &  & fonts/OpenSans-VariableFont_wdth,wght.ttf & 97.780000 \\\\\n",
      "\\cline{2-4}\n",
      " & \\multirow[t]{2}{*}{Subdermatoglyphic} & fonts/Helvetica.ttf & 91.180000 \\\\\n",
      " &  & fonts/OpenSans-VariableFont_wdth,wght.ttf & 91.670000 \\\\\n",
      "\\cline{2-4}\n",
      " & \\multirow[t]{2}{*}{tHyUiKaRbNqWeOpXcZvM} & fonts/Helvetica.ttf & 95.830000 \\\\\n",
      " &  & fonts/OpenSans-VariableFont_wdth,wght.ttf & 90.000000 \\\\\n",
      "\\cline{1-4} \\cline{2-4}\n",
      "\\multirow[t]{6}{*}{Sonnet} & \\multirow[t]{2}{*}{Acknowledgement} & fonts/Helvetica.ttf & 25.000000 \\\\\n",
      " &  & fonts/OpenSans-VariableFont_wdth,wght.ttf & 28.330000 \\\\\n",
      "\\cline{2-4}\n",
      " & \\multirow[t]{2}{*}{Subdermatoglyphic} & fonts/Helvetica.ttf & 23.530000 \\\\\n",
      " &  & fonts/OpenSans-VariableFont_wdth,wght.ttf & 23.530000 \\\\\n",
      "\\cline{2-4}\n",
      " & \\multirow[t]{2}{*}{tHyUiKaRbNqWeOpXcZvM} & fonts/Helvetica.ttf & 52.500000 \\\\\n",
      " &  & fonts/OpenSans-VariableFont_wdth,wght.ttf & 45.000000 \\\\\n",
      "\\cline{1-4} \\cline{2-4}\n",
      "\\bottomrule\n",
      "\\end{tabular}\n",
      "\n"
     ]
    }
   ],
   "source": [
    "print(accuracy_per_model_word_font.to_latex())"
   ]
  },
  {
   "cell_type": "code",
   "execution_count": null,
   "metadata": {},
   "outputs": [],
   "source": []
  },
  {
   "cell_type": "code",
   "execution_count": null,
   "metadata": {},
   "outputs": [],
   "source": []
  },
  {
   "cell_type": "code",
   "execution_count": null,
   "metadata": {},
   "outputs": [],
   "source": []
  }
 ],
 "metadata": {
  "kernelspec": {
   "display_name": "defaulttorch2",
   "language": "python",
   "name": "python3"
  },
  "language_info": {
   "codemirror_mode": {
    "name": "ipython",
    "version": 3
   },
   "file_extension": ".py",
   "mimetype": "text/x-python",
   "name": "python",
   "nbconvert_exporter": "python",
   "pygments_lexer": "ipython3",
   "version": "3.10.9"
  }
 },
 "nbformat": 4,
 "nbformat_minor": 2
}
