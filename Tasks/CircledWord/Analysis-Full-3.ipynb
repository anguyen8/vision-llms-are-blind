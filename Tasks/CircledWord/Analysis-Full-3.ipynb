{
 "cells": [
  {
   "cell_type": "code",
   "execution_count": 7,
   "metadata": {},
   "outputs": [],
   "source": [
    "import pandas as pd\n",
    "import json\n",
    "import os\n",
    "import re"
   ]
  },
  {
   "cell_type": "code",
   "execution_count": 8,
   "metadata": {},
   "outputs": [],
   "source": [
    "pickle_files = [\n",
    "    \"./data/Sonnet-2.pkl\",\n",
    "    \"./data/gpt-4o-2.pkl\",\n",
    "    \"./data/gemini-1.5-pro-2.pkl\",\n",
    "]\n",
    "\n",
    "dfs = [pd.read_pickle(file) for file in pickle_files]\n",
    "df1 = pd.concat(dfs)\n",
    "\n",
    "df1[\"prompt\"] = \"Which character is being highlighted with a red oval?\"\n",
    "\n",
    "\n",
    "pickle_files = [\n",
    "    \"./data/sonnet.pkl\",\n",
    "    \"./data/gpt-4o.pkl\",\n",
    "    \"./data/gemini-1.5-pro.pkl\",\n",
    "]\n",
    "\n",
    "dfs = [pd.read_pickle(file) for file in pickle_files]\n",
    "df2 = pd.concat(dfs)\n",
    "\n",
    "df2[\"prompt\"] = \"Which letter is being circled?\"\n",
    "\n",
    "dfs = [pd.read_pickle(file) for file in pickle_files]\n",
    "df = pd.concat(dfs)"
   ]
  },
  {
   "cell_type": "code",
   "execution_count": 9,
   "metadata": {},
   "outputs": [
    {
     "name": "stdout",
     "output_type": "stream",
     "text": [
      "Model           word                \n",
      "GPT-4o          Acknowledgement         68.63\n",
      "                Subdermatoglyphic       63.77\n",
      "                tHyUiKaRbNqWeOpXcZvM    78.53\n",
      "Gemini-1.5-Pro  Acknowledgement         98.33\n",
      "                Subdermatoglyphic       91.42\n",
      "                tHyUiKaRbNqWeOpXcZvM    92.92\n",
      "Sonnet          Acknowledgement         82.78\n",
      "                Subdermatoglyphic       71.57\n",
      "                tHyUiKaRbNqWeOpXcZvM    65.62\n",
      "Name: is_prediction_correct, dtype: float64\n"
     ]
    }
   ],
   "source": [
    "df[\"is_prediction_correct\"] = df[\"gt\"] == df[\"predicted\"]\n",
    "\n",
    "# Group by model and word, then calculate the accuracy\n",
    "accuracy_per_model_and_word = df.groupby([\"Model\", \"word\"])[\n",
    "    \"is_prediction_correct\"\n",
    "].mean()\n",
    "\n",
    "# Convert the accuracy to percentage and print the result\n",
    "accuracy_per_model_and_word = accuracy_per_model_and_word * 100\n",
    "# round 2 decimal places\n",
    "accuracy_per_model_and_word = accuracy_per_model_and_word.round(2)\n",
    "\n",
    "print(accuracy_per_model_and_word)"
   ]
  },
  {
   "cell_type": "code",
   "execution_count": 16,
   "metadata": {},
   "outputs": [
    {
     "data": {
      "text/html": [
       "<div>\n",
       "<style scoped>\n",
       "    .dataframe tbody tr th:only-of-type {\n",
       "        vertical-align: middle;\n",
       "    }\n",
       "\n",
       "    .dataframe tbody tr th {\n",
       "        vertical-align: top;\n",
       "    }\n",
       "\n",
       "    .dataframe thead th {\n",
       "        text-align: right;\n",
       "    }\n",
       "</style>\n",
       "<table border=\"1\" class=\"dataframe\">\n",
       "  <thead>\n",
       "    <tr style=\"text-align: right;\">\n",
       "      <th></th>\n",
       "      <th>Model</th>\n",
       "      <th>word</th>\n",
       "      <th>is_prediction_correct</th>\n",
       "    </tr>\n",
       "  </thead>\n",
       "  <tbody>\n",
       "    <tr>\n",
       "      <th>0</th>\n",
       "      <td>GPT-4o</td>\n",
       "      <td>Acknowledgement</td>\n",
       "      <td>68.63</td>\n",
       "    </tr>\n",
       "    <tr>\n",
       "      <th>1</th>\n",
       "      <td>GPT-4o</td>\n",
       "      <td>Subdermatoglyphic</td>\n",
       "      <td>63.77</td>\n",
       "    </tr>\n",
       "    <tr>\n",
       "      <th>2</th>\n",
       "      <td>GPT-4o</td>\n",
       "      <td>tHyUiKaRbNqWeOpXcZvM</td>\n",
       "      <td>78.53</td>\n",
       "    </tr>\n",
       "    <tr>\n",
       "      <th>3</th>\n",
       "      <td>Gemini-1.5-Pro</td>\n",
       "      <td>Acknowledgement</td>\n",
       "      <td>98.33</td>\n",
       "    </tr>\n",
       "    <tr>\n",
       "      <th>4</th>\n",
       "      <td>Gemini-1.5-Pro</td>\n",
       "      <td>Subdermatoglyphic</td>\n",
       "      <td>91.42</td>\n",
       "    </tr>\n",
       "    <tr>\n",
       "      <th>5</th>\n",
       "      <td>Gemini-1.5-Pro</td>\n",
       "      <td>tHyUiKaRbNqWeOpXcZvM</td>\n",
       "      <td>92.92</td>\n",
       "    </tr>\n",
       "    <tr>\n",
       "      <th>6</th>\n",
       "      <td>Sonnet</td>\n",
       "      <td>Acknowledgement</td>\n",
       "      <td>82.78</td>\n",
       "    </tr>\n",
       "    <tr>\n",
       "      <th>7</th>\n",
       "      <td>Sonnet</td>\n",
       "      <td>Subdermatoglyphic</td>\n",
       "      <td>71.57</td>\n",
       "    </tr>\n",
       "    <tr>\n",
       "      <th>8</th>\n",
       "      <td>Sonnet</td>\n",
       "      <td>tHyUiKaRbNqWeOpXcZvM</td>\n",
       "      <td>65.62</td>\n",
       "    </tr>\n",
       "  </tbody>\n",
       "</table>\n",
       "</div>"
      ],
      "text/plain": [
       "            Model                  word  is_prediction_correct\n",
       "0          GPT-4o       Acknowledgement                  68.63\n",
       "1          GPT-4o     Subdermatoglyphic                  63.77\n",
       "2          GPT-4o  tHyUiKaRbNqWeOpXcZvM                  78.53\n",
       "3  Gemini-1.5-Pro       Acknowledgement                  98.33\n",
       "4  Gemini-1.5-Pro     Subdermatoglyphic                  91.42\n",
       "5  Gemini-1.5-Pro  tHyUiKaRbNqWeOpXcZvM                  92.92\n",
       "6          Sonnet       Acknowledgement                  82.78\n",
       "7          Sonnet     Subdermatoglyphic                  71.57\n",
       "8          Sonnet  tHyUiKaRbNqWeOpXcZvM                  65.62"
      ]
     },
     "execution_count": 16,
     "metadata": {},
     "output_type": "execute_result"
    }
   ],
   "source": [
    "accuracy_per_model_and_word.reset_index()"
   ]
  },
  {
   "cell_type": "code",
   "execution_count": 10,
   "metadata": {},
   "outputs": [
    {
     "name": "stdout",
     "output_type": "stream",
     "text": [
      "Model\n",
      "GPT-4o            70.85\n",
      "Gemini-1.5-Pro    93.99\n",
      "Sonnet            72.52\n",
      "Name: is_prediction_correct, dtype: float64\n"
     ]
    }
   ],
   "source": [
    "# calcualte accuracy per model on all words\n",
    "accuracy_per_model = df.groupby(\"Model\")[\"is_prediction_correct\"].mean()\n",
    "accuracy_per_model = accuracy_per_model * 100\n",
    "accuracy_per_model = accuracy_per_model.round(2)\n",
    "print(accuracy_per_model)"
   ]
  },
  {
   "cell_type": "code",
   "execution_count": null,
   "metadata": {},
   "outputs": [],
   "source": []
  },
  {
   "cell_type": "code",
   "execution_count": 11,
   "metadata": {},
   "outputs": [
    {
     "name": "stdout",
     "output_type": "stream",
     "text": [
      "\\begin{tabular}{llr}\n",
      "\\toprule\n",
      " &  & is_prediction_correct \\\\\n",
      "Model & word &  \\\\\n",
      "\\midrule\n",
      "\\multirow[t]{3}{*}{GPT-4o} & Acknowledgement & 68.630000 \\\\\n",
      " & Subdermatoglyphic & 63.770000 \\\\\n",
      " & tHyUiKaRbNqWeOpXcZvM & 78.530000 \\\\\n",
      "\\cline{1-3}\n",
      "\\multirow[t]{3}{*}{Gemini-1.5-Pro} & Acknowledgement & 98.330000 \\\\\n",
      " & Subdermatoglyphic & 91.420000 \\\\\n",
      " & tHyUiKaRbNqWeOpXcZvM & 92.920000 \\\\\n",
      "\\cline{1-3}\n",
      "\\multirow[t]{3}{*}{Sonnet} & Acknowledgement & 82.780000 \\\\\n",
      " & Subdermatoglyphic & 71.570000 \\\\\n",
      " & tHyUiKaRbNqWeOpXcZvM & 65.620000 \\\\\n",
      "\\cline{1-3}\n",
      "\\bottomrule\n",
      "\\end{tabular}\n",
      "\n"
     ]
    }
   ],
   "source": [
    "print(accuracy_per_model_and_word.to_latex())"
   ]
  },
  {
   "cell_type": "code",
   "execution_count": 12,
   "metadata": {},
   "outputs": [
    {
     "data": {
      "text/plain": [
       "Model\n",
       "GPT-4o            70.310000\n",
       "Gemini-1.5-Pro    94.223333\n",
       "Sonnet            73.323333\n",
       "Name: is_prediction_correct, dtype: float64"
      ]
     },
     "execution_count": 12,
     "metadata": {},
     "output_type": "execute_result"
    }
   ],
   "source": [
    "# get average per model\n",
    "accuracy_per_model_and_word.groupby(\"Model\").mean()"
   ]
  },
  {
   "cell_type": "code",
   "execution_count": null,
   "metadata": {},
   "outputs": [],
   "source": []
  },
  {
   "cell_type": "code",
   "execution_count": 18,
   "metadata": {},
   "outputs": [
    {
     "data": {
      "text/plain": [
       "Model           word                  font_path                                \n",
       "GPT-4o          Acknowledgement       fonts/Helvetica.ttf                          69.66\n",
       "                                      fonts/OpenSans-VariableFont_wdth,wght.ttf    67.60\n",
       "                Subdermatoglyphic     fonts/Helvetica.ttf                          67.98\n",
       "                                      fonts/OpenSans-VariableFont_wdth,wght.ttf    59.50\n",
       "                tHyUiKaRbNqWeOpXcZvM  fonts/Helvetica.ttf                          82.28\n",
       "                                      fonts/OpenSans-VariableFont_wdth,wght.ttf    74.79\n",
       "Gemini-1.5-Pro  Acknowledgement       fonts/Helvetica.ttf                          98.89\n",
       "                                      fonts/OpenSans-VariableFont_wdth,wght.ttf    97.78\n",
       "                Subdermatoglyphic     fonts/Helvetica.ttf                          91.18\n",
       "                                      fonts/OpenSans-VariableFont_wdth,wght.ttf    91.67\n",
       "                tHyUiKaRbNqWeOpXcZvM  fonts/Helvetica.ttf                          95.83\n",
       "                                      fonts/OpenSans-VariableFont_wdth,wght.ttf    90.00\n",
       "Sonnet          Acknowledgement       fonts/Helvetica.ttf                          82.78\n",
       "                                      fonts/OpenSans-VariableFont_wdth,wght.ttf    82.78\n",
       "                Subdermatoglyphic     fonts/Helvetica.ttf                          70.10\n",
       "                                      fonts/OpenSans-VariableFont_wdth,wght.ttf    73.04\n",
       "                tHyUiKaRbNqWeOpXcZvM  fonts/Helvetica.ttf                          69.58\n",
       "                                      fonts/OpenSans-VariableFont_wdth,wght.ttf    61.67\n",
       "Name: is_prediction_correct, dtype: float64"
      ]
     },
     "execution_count": 18,
     "metadata": {},
     "output_type": "execute_result"
    }
   ],
   "source": [
    "# Assuming 'df' has a column named 'font' that contains the font information for each entry.\n",
    "\n",
    "# Group by model, word, and font, then calculate the accuracy\n",
    "accuracy_per_model_word_font = df.groupby([\"Model\", \"word\", \"font_path\"])[\n",
    "    \"is_prediction_correct\"\n",
    "].mean()\n",
    "\n",
    "# Convert the accuracy to percentage and round to 2 decimal places\n",
    "accuracy_per_model_word_font = (accuracy_per_model_word_font * 100).round(2)\n",
    "\n",
    "accuracy_per_model_word_font"
   ]
  },
  {
   "cell_type": "code",
   "execution_count": 14,
   "metadata": {},
   "outputs": [
    {
     "name": "stdout",
     "output_type": "stream",
     "text": [
      "\\begin{tabular}{lllr}\n",
      "\\toprule\n",
      " &  &  & is_prediction_correct \\\\\n",
      "Model & word & font_path &  \\\\\n",
      "\\midrule\n",
      "\\multirow[t]{6}{*}{GPT-4o} & \\multirow[t]{2}{*}{Acknowledgement} & fonts/Helvetica.ttf & 69.660000 \\\\\n",
      " &  & fonts/OpenSans-VariableFont_wdth,wght.ttf & 67.600000 \\\\\n",
      "\\cline{2-4}\n",
      " & \\multirow[t]{2}{*}{Subdermatoglyphic} & fonts/Helvetica.ttf & 67.980000 \\\\\n",
      " &  & fonts/OpenSans-VariableFont_wdth,wght.ttf & 59.500000 \\\\\n",
      "\\cline{2-4}\n",
      " & \\multirow[t]{2}{*}{tHyUiKaRbNqWeOpXcZvM} & fonts/Helvetica.ttf & 82.280000 \\\\\n",
      " &  & fonts/OpenSans-VariableFont_wdth,wght.ttf & 74.790000 \\\\\n",
      "\\cline{1-4} \\cline{2-4}\n",
      "\\multirow[t]{6}{*}{Gemini-1.5-Pro} & \\multirow[t]{2}{*}{Acknowledgement} & fonts/Helvetica.ttf & 98.890000 \\\\\n",
      " &  & fonts/OpenSans-VariableFont_wdth,wght.ttf & 97.780000 \\\\\n",
      "\\cline{2-4}\n",
      " & \\multirow[t]{2}{*}{Subdermatoglyphic} & fonts/Helvetica.ttf & 91.180000 \\\\\n",
      " &  & fonts/OpenSans-VariableFont_wdth,wght.ttf & 91.670000 \\\\\n",
      "\\cline{2-4}\n",
      " & \\multirow[t]{2}{*}{tHyUiKaRbNqWeOpXcZvM} & fonts/Helvetica.ttf & 95.830000 \\\\\n",
      " &  & fonts/OpenSans-VariableFont_wdth,wght.ttf & 90.000000 \\\\\n",
      "\\cline{1-4} \\cline{2-4}\n",
      "\\multirow[t]{6}{*}{Sonnet} & \\multirow[t]{2}{*}{Acknowledgement} & fonts/Helvetica.ttf & 82.780000 \\\\\n",
      " &  & fonts/OpenSans-VariableFont_wdth,wght.ttf & 82.780000 \\\\\n",
      "\\cline{2-4}\n",
      " & \\multirow[t]{2}{*}{Subdermatoglyphic} & fonts/Helvetica.ttf & 70.100000 \\\\\n",
      " &  & fonts/OpenSans-VariableFont_wdth,wght.ttf & 73.040000 \\\\\n",
      "\\cline{2-4}\n",
      " & \\multirow[t]{2}{*}{tHyUiKaRbNqWeOpXcZvM} & fonts/Helvetica.ttf & 69.580000 \\\\\n",
      " &  & fonts/OpenSans-VariableFont_wdth,wght.ttf & 61.670000 \\\\\n",
      "\\cline{1-4} \\cline{2-4}\n",
      "\\bottomrule\n",
      "\\end{tabular}\n",
      "\n"
     ]
    }
   ],
   "source": [
    "print(accuracy_per_model_word_font.to_latex())"
   ]
  },
  {
   "cell_type": "code",
   "execution_count": null,
   "metadata": {},
   "outputs": [],
   "source": []
  },
  {
   "cell_type": "code",
   "execution_count": null,
   "metadata": {},
   "outputs": [],
   "source": []
  },
  {
   "cell_type": "code",
   "execution_count": null,
   "metadata": {},
   "outputs": [],
   "source": []
  }
 ],
 "metadata": {
  "kernelspec": {
   "display_name": "defaulttorch2",
   "language": "python",
   "name": "python3"
  },
  "language_info": {
   "codemirror_mode": {
    "name": "ipython",
    "version": 3
   },
   "file_extension": ".py",
   "mimetype": "text/x-python",
   "name": "python",
   "nbconvert_exporter": "python",
   "pygments_lexer": "ipython3",
   "version": "3.10.9"
  }
 },
 "nbformat": 4,
 "nbformat_minor": 2
}
