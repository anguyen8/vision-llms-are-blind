{
 "cells": [
  {
   "cell_type": "markdown",
   "metadata": {},
   "source": [
    "# Export"
   ]
  },
  {
   "cell_type": "code",
   "execution_count": 4,
   "metadata": {},
   "outputs": [],
   "source": [
    "def extract_marked_text(text):\n",
    "\n",
    "    import re\n",
    "\n",
    "    text = text.lower()\n",
    "\n",
    "    # if we have a text like \"letter X is being circled\" for any upper and lower letter X then return it\n",
    "    if re.search(r\"letter ([a-zA-Z]) is being circled\", text):\n",
    "        return re.search(r\"letter ([a-zA-Z]) is being circled\", text).group(1)\n",
    "\n",
    "    # let first check if tehre is a single character wrapped around \" and \"  with regex, it has to be a single character\n",
    "    if re.search(r'\"([a-zA-Z])\"', text):\n",
    "        return re.search(r'\"([a-zA-Z])\"', text).group(1)\n",
    "\n",
    "    # if a single character wrapped around single qoute ' and '\n",
    "    if re.search(r\"'([a-zA-Z])'\", text):\n",
    "        return re.search(r\"'([a-zA-Z])'\", text).group(1)\n",
    "\n",
    "    # if we have a string like letter X is being circled for any X lower or upper then return it\n",
    "    if re.search(r\"([a-zA-Z]) is being circled\", text):\n",
    "        return re.search(r\"([a-zA-Z]) is being circled\", text).group(1)\n",
    "\n",
    "    # if we have text like is the letter X. for any lower or upper case X then return it\n",
    "    if re.search(r\"the letter ([a-zA-Z])\", text):\n",
    "        return re.search(r\"the letter ([a-zA-Z])\", text).group(1)\n",
    "\n",
    "    # if we have \"in the image is X.\" in the text for any lower or upper case X then return it\n",
    "    if re.search(r\"in the image is ([a-zA-Z])\\.\", text):\n",
    "        return re.search(r\"in the image is ([a-zA-Z])\\.\", text).group(1)\n",
    "\n",
    "    # if is the letter x for any lower or upper case X then return it\n",
    "    if re.search(r\"the letter ([a-zA-Z])\", text):\n",
    "        return re.search(r\"the letter ([a-zA-Z])\", text).group(1)\n",
    "\n",
    "    # if \"in the image is X,\" for any lower or upper case X then return it\n",
    "    if re.search(r\"in the image is ([a-zA-Z])\\.\", text):\n",
    "        return re.search(r\"in the image is ([a-zA-Z])\\.\", text).group(1)\n",
    "\n",
    "    if \"copyright symbol\" in text:\n",
    "        return \"©\"\n",
    "\n",
    "    if \"@\" in text:\n",
    "        return \"@\"\n",
    "\n",
    "    if \"there is no red oval\" in text:\n",
    "        return \"none\"\n",
    "\n",
    "    # if \"is the uppercase letter X.\" for any lower or upper case X then return it\n",
    "    if re.search(r\"the uppercase letter ([a-zA-Z])\", text):\n",
    "        return re.search(r\"the uppercase letter ([a-zA-Z])\", text).group(1)\n",
    "\n",
    "    # if 'is the lowercase letter X.\" for any lower or upper case X then return it\n",
    "    if re.search(r\"the lowercase letter ([a-zA-Z])\", text):\n",
    "        return re.search(r\"the lowercase letter ([a-zA-Z])\", text).group(1)\n",
    "\n",
    "    # if we have \"the number 9\" for any number then return it\n",
    "    if re.search(r\"the number ([0-9])\", text):\n",
    "        return re.search(r\"the number ([0-9])\", text).group(1)\n",
    "\n",
    "    if \"There is no character\" in text:\n",
    "        return \"none\"\n",
    "\n",
    "    if \"There is no red oval\" in text:\n",
    "        return \"none\"\n",
    "\n",
    "    if \"does not contain\" in text:\n",
    "        return \"none\"\n",
    "\n",
    "    if \"there are no red ovals\" in text:\n",
    "        return \"none\"\n",
    "\n",
    "    # if image is X. for any lower or upper case X then return it\n",
    "    if re.search(r\"image is ([a-zA-Z])\\.\", text):\n",
    "        return re.search(r\"image is ([a-zA-Z])\\.\", text).group(1)\n",
    "\n",
    "    if re.search(r\"letters is ([a-zA-Z])\\.\", text):\n",
    "        return re.search(r\"letters is ([a-zA-Z])\\.\", text).group(1)\n",
    "\n",
    "    # if we have \"the image is S,\" for any lower or upper case S then return it and there should be , after it\n",
    "    if re.search(r\"the image is ([a-zA-Z]),\", text):\n",
    "        return re.search(r\"the image is ([a-zA-Z]),\", text).group(1)\n",
    "\n",
    "    # if the text ends with is X. for any lower or upper case X then return it\n",
    "    if re.search(r\"is ([a-zA-Z])\\.\", text):\n",
    "        return re.search(r\"is ([a-zA-Z])\\.\", text).group(1)\n",
    "\n",
    "    # finally if we have pattersn \" is R \" with leading and trailing space then return the character in between\n",
    "    if re.search(r\"\\s([a-zA-Z])\\s\", text):\n",
    "        return re.search(r\"\\s([a-zA-Z])\\s\", text).group(1)\n",
    "\n",
    "    return \"marker_not_found\" + text"
   ]
  },
  {
   "cell_type": "code",
   "execution_count": 5,
   "metadata": {},
   "outputs": [],
   "source": [
    "import pandas as pd\n",
    "import json\n",
    "import os\n",
    "import re\n",
    "\n",
    "# Define the words\n",
    "WORDs = [\n",
    "    \"Acknowledgement\",\n",
    "    \"Subdermatoglyphic\",\n",
    "    \"tHyUiKaRbNqWeOpXcZvM\",\n",
    "]\n",
    "\n",
    "# Initialize an empty list to store DataFrames\n",
    "all_data_frames = []\n",
    "\n",
    "# Loop through each word\n",
    "for WORD in WORDs:\n",
    "    gt_data = pd.read_json(f\"./images/{WORD}/configurations.json\")\n",
    "\n",
    "    # Generate model output file paths and read the content if the file exists\n",
    "    gt_data[\"model-output-file\"] = gt_data[\"image_path\"].apply(\n",
    "        lambda x: x.replace(\".png\", \"\") + \"-claude-3-5-sonnet-20240620-output.md\"\n",
    "    )\n",
    "    gt_data[\"model-output-raw\"] = gt_data[\"model-output-file\"].apply(\n",
    "        lambda x: (open(x, \"r\").read() if os.path.exists(x) else None)\n",
    "    )\n",
    "\n",
    "    # Drop rows with missing sonnet output\n",
    "    gt_data = gt_data.dropna(subset=[\"model-output-raw\"])\n",
    "\n",
    "    gt_data[\"predicted\"] = gt_data[\"model-output-raw\"].apply(extract_marked_text)\n",
    "    # convert to lower case\n",
    "    gt_data[\"predicted\"] = gt_data[\"predicted\"].apply(lambda x: x.lower())\n",
    "    # print(gt_data[\"predicted\"].value_counts())\n",
    "    # print accuracy\n",
    "    # print(gt_data[\"predicted\"] == gt_data[\"gt\"])  # print accuracy\n",
    "\n",
    "    # Calculate ground truth and correctness\n",
    "    gt_data[\"gt\"] = gt_data.apply(\n",
    "        lambda row: row[\"word\"][row[\"circle_index\"]].lower(), axis=1\n",
    "    )\n",
    "    gt_data[\"is_prediction_correct\"] = gt_data[\"gt\"] == gt_data[\"predicted\"]\n",
    "    gt_data[\"word_label\"] = WORD  # Add a column to identify the word\n",
    "\n",
    "    # Append to the list\n",
    "    all_data_frames.append(gt_data)\n",
    "\n",
    "# Concatenate all DataFrames into one\n",
    "final_data_frame = pd.concat(all_data_frames, ignore_index=True)"
   ]
  },
  {
   "cell_type": "code",
   "execution_count": 6,
   "metadata": {},
   "outputs": [],
   "source": [
    "final_data_frame[\"Model\"] = [\"Sonnet-3.5\"] * len(final_data_frame)"
   ]
  },
  {
   "cell_type": "code",
   "execution_count": 7,
   "metadata": {},
   "outputs": [],
   "source": [
    "final_data_frame.to_pickle(\"./data/Sonnet-3.5.pkl\")"
   ]
  },
  {
   "cell_type": "code",
   "execution_count": 8,
   "metadata": {},
   "outputs": [
    {
     "data": {
      "text/plain": [
       "word_label\n",
       "Acknowledgement         0.908333\n",
       "Subdermatoglyphic       0.943627\n",
       "tHyUiKaRbNqWeOpXcZvM    0.637500\n",
       "Name: is_prediction_correct, dtype: float64"
      ]
     },
     "execution_count": 8,
     "metadata": {},
     "output_type": "execute_result"
    }
   ],
   "source": [
    "# group by word and average is_prediction_correct\n",
    "final_data_frame.groupby(\"word_label\")[\"is_prediction_correct\"].mean()"
   ]
  },
  {
   "cell_type": "code",
   "execution_count": null,
   "metadata": {},
   "outputs": [],
   "source": []
  },
  {
   "cell_type": "code",
   "execution_count": null,
   "metadata": {},
   "outputs": [],
   "source": []
  },
  {
   "cell_type": "code",
   "execution_count": null,
   "metadata": {},
   "outputs": [],
   "source": []
  },
  {
   "cell_type": "code",
   "execution_count": null,
   "metadata": {},
   "outputs": [],
   "source": []
  }
 ],
 "metadata": {
  "kernelspec": {
   "display_name": "defaulttorch2",
   "language": "python",
   "name": "python3"
  },
  "language_info": {
   "codemirror_mode": {
    "name": "ipython",
    "version": 3
   },
   "file_extension": ".py",
   "mimetype": "text/x-python",
   "name": "python",
   "nbconvert_exporter": "python",
   "pygments_lexer": "ipython3",
   "version": "3.10.9"
  }
 },
 "nbformat": 4,
 "nbformat_minor": 2
}
