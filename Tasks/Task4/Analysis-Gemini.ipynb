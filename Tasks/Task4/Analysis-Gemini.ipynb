{
 "cells": [
  {
   "cell_type": "code",
   "execution_count": 732,
   "metadata": {},
   "outputs": [],
   "source": [
    "import json\n",
    "import pandas as pd\n",
    "import matplotlib.pyplot as plt\n",
    "import seaborn as sns\n",
    "import numpy as np\n",
    "import glob\n",
    "import os"
   ]
  },
  {
   "cell_type": "code",
   "execution_count": 733,
   "metadata": {},
   "outputs": [],
   "source": [
    "import glob\n",
    "import os\n",
    "\n",
    "# Define the path to the directory containing the files\n",
    "directory_path = \"./nested_squares/\"\n",
    "\n",
    "# Create a pattern to match files recursively\n",
    "pattern = os.path.join(directory_path, \"**/*gemini*.md\")\n",
    "\n",
    "# Use glob to find all files that match the pattern, with recursive set to True\n",
    "md_files = glob.glob(pattern, recursive=True)\n",
    "\n",
    "# Read the content of each file\n",
    "file_contents = {}\n",
    "for file_path in md_files:\n",
    "    with open(file_path, \"r\") as file:\n",
    "        file_contents[os.path.basename(file_path)] = file.read()"
   ]
  },
  {
   "cell_type": "code",
   "execution_count": null,
   "metadata": {},
   "outputs": [],
   "source": []
  },
  {
   "cell_type": "code",
   "execution_count": 734,
   "metadata": {},
   "outputs": [
    {
     "data": {
      "text/plain": [
       "120"
      ]
     },
     "execution_count": 734,
     "metadata": {},
     "output_type": "execute_result"
    }
   ],
   "source": [
    "gt_data = pd.read_json(f\"./nested_squares/config.json\")\n",
    "len(gt_data)"
   ]
  },
  {
   "cell_type": "code",
   "execution_count": 735,
   "metadata": {},
   "outputs": [],
   "source": [
    "# text_image_0a5a0d82-477d-47e2-a504-861c5952fe98-gemini-output.md\n",
    "gt_data[\"gemini-output-file\"] = gt_data[\"image_name\"].apply(\n",
    "    lambda x: \"./nested_squares/\" + x.replace(\".png\", \"\") + \"-gemini-output.md\"\n",
    ")\n",
    "\n",
    "# Read the content of each file for the gemini output and make a new column, ignoring missing files\n",
    "gt_data[\"gemini-output-raw\"] = gt_data[\"gemini-output-file\"].apply(\n",
    "    lambda x: (open(x, \"r\").read() if os.path.exists(os.path.join(x)) else None)\n",
    ")"
   ]
  },
  {
   "cell_type": "code",
   "execution_count": 736,
   "metadata": {},
   "outputs": [],
   "source": [
    "# drop rows with missing gemini output\n",
    "gt_data = gt_data.dropna(subset=[\"gemini-output-raw\"])"
   ]
  },
  {
   "cell_type": "code",
   "execution_count": 737,
   "metadata": {},
   "outputs": [
    {
     "data": {
      "text/plain": [
       "120"
      ]
     },
     "execution_count": 737,
     "metadata": {},
     "output_type": "execute_result"
    }
   ],
   "source": [
    "len(gt_data)"
   ]
  },
  {
   "cell_type": "code",
   "execution_count": 738,
   "metadata": {},
   "outputs": [],
   "source": [
    "def extract_marked_text(text):\n",
    "    # First try to extract text between **\n",
    "    parts = text.split(\"**\")\n",
    "    if len(parts) > 1:\n",
    "        # Extract the first marked text which is likely the number or description of intersections\n",
    "        marked_text = parts[1].lower()\n",
    "        # Map textual numbers to integer values\n",
    "        number_mapping = {\n",
    "            \"zero\": 0,\n",
    "            \"one\": 1,\n",
    "            \"two\": 2,\n",
    "            \"three\": 3,\n",
    "            \"four\": 4,\n",
    "            \"five\": 5,\n",
    "            \"six\": 6,\n",
    "            \"seven\": 7,\n",
    "            \"eight\": 8,\n",
    "            \"nine\": 9,\n",
    "            \"ten\": 10,\n",
    "        }\n",
    "        # Check if the marked text is a digit and return the integer if true\n",
    "        if marked_text.isdigit():\n",
    "            return int(marked_text)\n",
    "        # Return the corresponding integer if the text is a known number, otherwise return the text\n",
    "        return number_mapping.get(marked_text, marked_text)\n",
    "    else:\n",
    "        # If not found, return a default value indicating no marked text was found\n",
    "        return \"marker_not_found\"\n",
    "\n",
    "\n",
    "gt_data[\"predicted\"] = gt_data[\"gemini-output-raw\"].apply(extract_marked_text)"
   ]
  },
  {
   "cell_type": "code",
   "execution_count": 739,
   "metadata": {},
   "outputs": [
    {
     "data": {
      "text/plain": [
       "predicted\n",
       "5    38\n",
       "3    31\n",
       "2    30\n",
       "4    21\n",
       "Name: count, dtype: int64"
      ]
     },
     "execution_count": 739,
     "metadata": {},
     "output_type": "execute_result"
    }
   ],
   "source": [
    "gt_data[\"predicted\"].value_counts()"
   ]
  },
  {
   "cell_type": "code",
   "execution_count": 740,
   "metadata": {},
   "outputs": [],
   "source": [
    "cleaned_data = gt_data.copy()\n",
    "# drop squares column\n",
    "cleaned_data = cleaned_data.drop(columns=[\"squares\"])"
   ]
  },
  {
   "cell_type": "code",
   "execution_count": 741,
   "metadata": {},
   "outputs": [
    {
     "name": "stdout",
     "output_type": "stream",
     "text": [
      "Overall Accuracy: 92.50%\n"
     ]
    }
   ],
   "source": [
    "# Ensure both columns are of integer type before comparison\n",
    "cleaned_data[\"depth\"] = cleaned_data[\"depth\"].astype(int)\n",
    "cleaned_data[\"predicted\"] = cleaned_data[\"predicted\"].astype(int)\n",
    "\n",
    "cleaned_data[\"is_prediction_correct\"] = (\n",
    "    cleaned_data[\"depth\"] == cleaned_data[\"predicted\"]\n",
    ")\n",
    "# Calculate accuracy\n",
    "accuracy = cleaned_data[\"is_prediction_correct\"].mean()\n",
    "print(f\"Overall Accuracy: {accuracy * 100:.2f}%\")"
   ]
  },
  {
   "cell_type": "code",
   "execution_count": 742,
   "metadata": {},
   "outputs": [
    {
     "data": {
      "text/plain": [
       "120"
      ]
     },
     "execution_count": 742,
     "metadata": {},
     "output_type": "execute_result"
    }
   ],
   "source": [
    "len(cleaned_data)"
   ]
  },
  {
   "cell_type": "code",
   "execution_count": 743,
   "metadata": {},
   "outputs": [
    {
     "name": "stderr",
     "output_type": "stream",
     "text": [
      "/var/folders/y1/b5wjnkp96_b7cvzncx0zsry40000gn/T/ipykernel_55127/1445926420.py:7: DeprecationWarning: DataFrameGroupBy.apply operated on the grouping columns. This behavior is deprecated, and in a future version of pandas the grouping columns will be excluded from the operation. Either pass `include_groups=False` to exclude the groupings or explicitly select the grouping columns after groupby to silence this warning.\n",
      "  accuracy_by_thickness = cleaned_data.groupby(\"line_thickness\").apply(\n"
     ]
    },
    {
     "data": {
      "text/plain": [
       "line_thickness\n",
       "2    100.0\n",
       "3     90.0\n",
       "4     88.0\n",
       "dtype: float64"
      ]
     },
     "execution_count": 743,
     "metadata": {},
     "output_type": "execute_result"
    }
   ],
   "source": [
    "# Assuming 'cleaned_data' DataFrame has columns 'line_thickness', 'num_intersections', and 'extracted_number'\n",
    "\n",
    "# Convert line_thickness to an appropriate numeric type if necessary\n",
    "cleaned_data[\"line_thickness\"] = cleaned_data[\"line_thickness\"].astype(int)\n",
    "\n",
    "# Calculate accuracy for each thickness\n",
    "accuracy_by_thickness = cleaned_data.groupby(\"line_thickness\").apply(\n",
    "    lambda df: (df[\"is_prediction_correct\"]).mean()\n",
    ")\n",
    "\n",
    "accuracy_by_thickness = 100 * accuracy_by_thickness.round(2)\n",
    "accuracy_by_thickness"
   ]
  },
  {
   "cell_type": "code",
   "execution_count": 744,
   "metadata": {},
   "outputs": [
    {
     "name": "stderr",
     "output_type": "stream",
     "text": [
      "/var/folders/y1/b5wjnkp96_b7cvzncx0zsry40000gn/T/ipykernel_55127/3496425564.py:5: DeprecationWarning: DataFrameGroupBy.apply operated on the grouping columns. This behavior is deprecated, and in a future version of pandas the grouping columns will be excluded from the operation. Either pass `include_groups=False` to exclude the groupings or explicitly select the grouping columns after groupby to silence this warning.\n",
      "  accuracy_by_thickness = cleaned_data.groupby(\"depth\").apply(\n"
     ]
    },
    {
     "data": {
      "text/plain": [
       "depth\n",
       "2    100.0\n",
       "3    100.0\n",
       "4     70.0\n",
       "5    100.0\n",
       "dtype: float64"
      ]
     },
     "execution_count": 744,
     "metadata": {},
     "output_type": "execute_result"
    }
   ],
   "source": [
    "# Convert line_thickness to an appropriate numeric type if necessary\n",
    "cleaned_data[\"depth\"] = cleaned_data[\"depth\"].astype(int)\n",
    "\n",
    "# Calculate accuracy for each thickness\n",
    "accuracy_by_thickness = cleaned_data.groupby(\"depth\").apply(\n",
    "    lambda df: (df[\"is_prediction_correct\"]).mean()\n",
    ")\n",
    "\n",
    "accuracy_by_thickness = 100 * accuracy_by_thickness.round(2)\n",
    "accuracy_by_thickness"
   ]
  },
  {
   "cell_type": "code",
   "execution_count": null,
   "metadata": {},
   "outputs": [],
   "source": []
  }
 ],
 "metadata": {
  "kernelspec": {
   "display_name": "defaulttorch2",
   "language": "python",
   "name": "python3"
  },
  "language_info": {
   "codemirror_mode": {
    "name": "ipython",
    "version": 3
   },
   "file_extension": ".py",
   "mimetype": "text/x-python",
   "name": "python",
   "nbconvert_exporter": "python",
   "pygments_lexer": "ipython3",
   "version": "3.10.9"
  }
 },
 "nbformat": 4,
 "nbformat_minor": 2
}
